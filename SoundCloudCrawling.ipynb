{
 "cells": [
  {
   "attachments": {},
   "cell_type": "markdown",
   "id": "e273ce2e",
   "metadata": {},
   "source": [
    "<center><h1>SoundCloud Crawling data</h1></center>"
   ]
  },
  {
   "attachments": {},
   "cell_type": "markdown",
   "id": "3c7cfe83",
   "metadata": {},
   "source": [
    "## Import libraries"
   ]
  },
  {
   "cell_type": "code",
   "execution_count": 1,
   "id": "d220c488",
   "metadata": {},
   "outputs": [],
   "source": [
    "import requests\n",
    "import requests_cache\n",
    "import time\n",
    "import json\n",
    "import re\n",
    "import pandas as pd \n",
    "from datetime import datetime, timedelta \n",
    "import csv\n",
    "from selenium import webdriver\n",
    "from selenium.webdriver.common.keys import Keys\n",
    "from selenium.webdriver.common.by import By\n",
    "from selenium.common.exceptions import TimeoutException\n",
    "from selenium.webdriver.support.ui import WebDriverWait\n",
    "from selenium.webdriver.support import expected_conditions as EC\n",
    "from pandas_profiling import ProfileReport\n",
    "import numpy as np\n",
    "import matplotlib.pyplot as plt\n",
    "import copy\n",
    "from sklearn.linear_model import LinearRegression\n",
    "from sklearn.model_selection import train_test_split\n",
    "from transformers import pipeline\n",
    "pd.set_option('display.float_format', lambda x: '%.5f' % x)"
   ]
  },
  {
   "attachments": {},
   "cell_type": "markdown",
   "id": "d02ea44e",
   "metadata": {},
   "source": [
    "Generating function for system actions"
   ]
  },
  {
   "cell_type": "code",
   "execution_count": 2,
   "id": "e1ceca13",
   "metadata": {},
   "outputs": [],
   "source": [
    "def scroll_down(driver):\n",
    "    time.sleep(1)\n",
    "    driver.execute_script(\"window.scrollTo(0, document.body.scrollHeight);\")\n",
    "\n",
    "def get_elements(driver, by, name, delay=2, first=False, tries=5):\n",
    "    while tries > 0:\n",
    "        try:\n",
    "            elem = None\n",
    "            if first:\n",
    "                elem = WebDriverWait(driver, delay).until(EC.presence_of_element_located((by, name)))\n",
    "            else:\n",
    "                elem = WebDriverWait(driver, delay).until(EC.presence_of_all_elements_located((by, name)))\n",
    "            return elem\n",
    "        except TimeoutException:\n",
    "            tries-=1"
   ]
  },
  {
   "attachments": {},
   "cell_type": "markdown",
   "id": "0e9030f8",
   "metadata": {},
   "source": [
    "Generating data collection"
   ]
  },
  {
   "cell_type": "code",
   "execution_count": 3,
   "id": "75bcc7d0",
   "metadata": {},
   "outputs": [],
   "source": [
    "def get_info(driver, list_users_link, users):\n",
    "    driver.execute_script(\"window.open('');\")\n",
    "    driver.switch_to.window(driver.window_handles[1])\n",
    "    for link, id in list_users_link.items():\n",
    "        driver.get(link)\n",
    "        users['id'].append(id)\n",
    "        name = 'infoStats__value'\n",
    "        elements = get_elements(driver, By.CLASS_NAME, name)\n",
    "        try:\n",
    "            users['name'].append(get_elements(driver, By.CLASS_NAME, 'profileHeaderInfo__userName', first=True).text)\n",
    "        except:\n",
    "            users['name'].append(None)\n",
    "        attrs = ['followers', 'following', 'tracks']\n",
    "        for i in range(len(attrs)):\n",
    "            try:\n",
    "                users[attrs[i]].append(elements[i].text)\n",
    "            except:\n",
    "                users[attrs[i]].append(None)\n",
    "        \n",
    "    driver.close()\n",
    "    driver.switch_to.window(driver.window_handles[0])\n",
    "\n",
    "def get_users(driver, link, tracks, tracks_id, list_users_link, list_tracks_link):\n",
    "    global user_id\n",
    "    global track_id\n",
    "    driver.execute_script(\"window.open('');\")\n",
    "    driver.switch_to.window(driver.window_handles[2])\n",
    "    driver.get(link)\n",
    "    name = 'sc-ministats-item'\n",
    "    elements = get_elements(driver, By.CLASS_NAME, name)\n",
    "    if link in list_tracks_link.keys():\n",
    "        tracks_id.append(str(list_tracks_link[link]))\n",
    "    else:\n",
    "        track_id += 1\n",
    "        tracks['id'].append(track_id)\n",
    "        tracks_id.append(str(track_id))\n",
    "        author = get_elements(driver, By.CLASS_NAME, 'sc-link-secondary', first=True)\n",
    "        link = author.get_attribute('href')\n",
    "        if link in list_users_link.keys():\n",
    "            tracks['author'].append(list_users_link[link])\n",
    "        else:\n",
    "            user_id += 1\n",
    "            tracks['author'].append(user_id)\n",
    "            list_users_link[link] = user_id\n",
    "        try:\n",
    "            tracks['title'].append(get_elements(driver, By.CLASS_NAME, 'soundTitle__title', first=True).text)\n",
    "        except:\n",
    "            tracks['title'].append(None)\n",
    "        attrs = ['plays', 'likes', 'reposts']\n",
    "        for i in range(len(attrs)):\n",
    "            try:\n",
    "                tracks[attrs[i]].append(elements[i].get_attribute('title').split(' ')[0])\n",
    "            except:\n",
    "                tracks[attrs[i]].append('0')\n",
    "        tracks['release'].append(get_elements(driver, By.CLASS_NAME, 'relativeTime', first=True).text)\n",
    "    driver.close()\n",
    "    driver.switch_to.window(driver.window_handles[1])\n",
    "\n",
    "def get_tracks(driver, link, tracks, tracks_id, list_users_link, list_tracks_link):\n",
    "    driver.execute_script(\"window.open('');\")\n",
    "    driver.switch_to.window(driver.window_handles[1])\n",
    "    driver.get(link)\n",
    "    name = 'trackItem__trackTitle'\n",
    "    elements = get_elements(driver, By.CLASS_NAME, name)\n",
    "    cnt = 0\n",
    "    # crawl 2 tracks of playlist\n",
    "    for e in elements:\n",
    "        cnt += 1\n",
    "        link = e.get_attribute('href')\n",
    "        get_users(driver, link, tracks, tracks_id, list_users_link, list_tracks_link)\n",
    "        if cnt == 2:\n",
    "            break\n",
    "    driver.close()\n",
    "    driver.switch_to.window(driver.window_handles[0])\n",
    "\n",
    "def get_playlists(driver, elements, playlists, tracks, list_users_link, list_tracks_link):\n",
    "    global playlist_id\n",
    "    global user_id\n",
    "    for e in elements:\n",
    "        # pass unavailable and less than 5 tracks\n",
    "        data = e.text.split('\\n')\n",
    "        link = e.find_element(By.CLASS_NAME, 'soundTitle__title').get_attribute('href')\n",
    "        user_link = e.find_element(By.CLASS_NAME, 'soundTitle__username').get_attribute('href')\n",
    "        if data[0] == 'Unavailable' or not(data[-6].startswith('View') and data[-6].endswith('tracks')):\n",
    "            continue\n",
    "        playlist_id += 1\n",
    "        tracks_id = []\n",
    "        if user_link in list_users_link.keys():\n",
    "            playlists['author'].append(list_users_link[user_link])\n",
    "        else:\n",
    "            user_id += 1\n",
    "            playlists['author'].append(user_id)\n",
    "            list_users_link[user_link] = user_id\n",
    "        playlists['id'].append(playlist_id)\n",
    "        playlists['title'].append(data[2])\n",
    "        playlists['likes'].append(data[-5] if data[-5] != 'Like' else '0')\n",
    "        playlists['reposts'].append(data[-4] if data[-4] != 'Repost' else '0')\n",
    "        playlists['release'].append(data[4])\n",
    "        get_tracks(driver, link, tracks, tracks_id, list_users_link, list_tracks_link)\n",
    "        playlists['tracks'].append(','.join(tracks_id))"
   ]
  },
  {
   "cell_type": "markdown",
   "id": "54504177",
   "metadata": {},
   "source": [
    "**Execute the crawl process**"
   ]
  },
  {
   "cell_type": "markdown",
   "id": "20646d2c",
   "metadata": {},
   "source": [
    "Uncomment this cell to crawl the data (It may take 1-2 days to process)"
   ]
  },
  {
   "cell_type": "code",
   "execution_count": 4,
   "id": "8d141e83",
   "metadata": {},
   "outputs": [],
   "source": [
    "# driver = webdriver.Chrome()\n",
    "# cookies = False\n",
    "# playlists = {'id': [], 'title': [], 'author': [], 'tracks': [], 'likes': [], 'reposts': [], 'release': []}\n",
    "# tracks = {'id': [], 'title': [], 'author': [], 'plays': [], 'likes': [], 'reposts': [], 'release': []}\n",
    "# users = {'id': [], 'name': [], 'followers': [], 'following': [], 'tracks': []}\n",
    "# global playlist_id\n",
    "# global track_id\n",
    "# global user_id\n",
    "# playlist_id, track_id, user_id = 0, 0, 0\n",
    "# list_tracks_link, list_users_link = {}, {}\n",
    "# cookies_id = 'onetrust-accept-btn-handler'\n",
    "# time.sleep(1)\n",
    "# for i in range(ord('o'), ord('z')+1):\n",
    "#     elements = []\n",
    "#     key = chr(i)\n",
    "#     driver.get(f'https://soundcloud.com/search/sets?q={key}')\n",
    "#     if not(cookies):\n",
    "#         time.sleep(3)\n",
    "#         c = get_elements(driver, By.ID, cookies_id, delay=7, first=True).click()\n",
    "#         cookies = True\n",
    "#     while len(elements) < 50:\n",
    "#         scroll_down(driver)\n",
    "#         elements = driver.find_elements(By.CLASS_NAME, 'sound__content')\n",
    "#     get_playlists(driver, elements, playlists, tracks, list_users_link, list_tracks_link)\n",
    "#     get_info(driver, list_users_link, users)\n",
    "#     playlist_df = pd.DataFrame(playlists, columns=['id', 'title', 'author', 'tracks', 'likes', 'reposts', 'release'])\n",
    "#     track_df = pd.DataFrame(tracks, columns=['id', 'title', 'author', 'plays', 'likes', 'reposts', 'release'])\n",
    "#     user_df = pd.DataFrame(users, columns=['id', 'name', 'followers', 'following', 'tracks'])\n",
    "#     # Export to file\n",
    "#     playlist_df.to_csv('playlists.csv', index='id')\n",
    "#     track_df.to_csv('tracks.csv', index='id')\n",
    "#     user_df.to_csv('users.csv', index='id')\n",
    "# driver.quit()"
   ]
  },
  {
   "attachments": {},
   "cell_type": "markdown",
   "id": "39c098b1",
   "metadata": {},
   "source": [
    "## Pre-processing data"
   ]
  },
  {
   "attachments": {},
   "cell_type": "markdown",
   "id": "7b78e486",
   "metadata": {},
   "source": [
    "### Importing datasets\n",
    "There are 3 files: \"playlists.csv\", \"tracks.csv\", \"users.csv\""
   ]
  },
  {
   "cell_type": "code",
   "execution_count": 6,
   "id": "278c0e32",
   "metadata": {},
   "outputs": [],
   "source": [
    "playlists_df = pd.read_csv(\"SoundcloudData/playlists.csv\")\n",
    "tracks_df = pd.read_csv(\"SoundcloudData/tracks.csv\")\n",
    "users_df = pd.read_csv(\"SoundcloudData/users.csv\")"
   ]
  },
  {
   "cell_type": "code",
   "execution_count": 7,
   "id": "157bee36",
   "metadata": {},
   "outputs": [
    {
     "name": "stdout",
     "output_type": "stream",
     "text": [
      "Index(['Unnamed: 0', 'id', 'title', 'author', 'tracks', 'likes', 'reposts',\n",
      "       'release'],\n",
      "      dtype='object')\n",
      "Index(['Unnamed: 0', 'id', 'title', 'author', 'plays', 'likes', 'reposts',\n",
      "       'release'],\n",
      "      dtype='object')\n",
      "Index(['Unnamed: 0', 'id', 'name', 'followers', 'following', 'tracks'], dtype='object')\n"
     ]
    }
   ],
   "source": [
    "print(playlists_df.keys())\n",
    "print(tracks_df.keys())\n",
    "print(users_df.keys())"
   ]
  },
  {
   "attachments": {},
   "cell_type": "markdown",
   "id": "9aa4ca51",
   "metadata": {},
   "source": [
    "Clearing `unknown attribute`"
   ]
  },
  {
   "cell_type": "code",
   "execution_count": 8,
   "id": "815f64b9",
   "metadata": {},
   "outputs": [],
   "source": [
    "tracks_df.drop(columns='Unnamed: 0', inplace=True)\n",
    "users_df.drop(columns='Unnamed: 0', inplace=True)\n",
    "playlists_df.drop(columns='Unnamed: 0', inplace=True)"
   ]
  },
  {
   "cell_type": "code",
   "execution_count": 9,
   "id": "89b84ea4",
   "metadata": {},
   "outputs": [
    {
     "data": {
      "text/html": [
       "<div>\n",
       "<style scoped>\n",
       "    .dataframe tbody tr th:only-of-type {\n",
       "        vertical-align: middle;\n",
       "    }\n",
       "\n",
       "    .dataframe tbody tr th {\n",
       "        vertical-align: top;\n",
       "    }\n",
       "\n",
       "    .dataframe thead th {\n",
       "        text-align: right;\n",
       "    }\n",
       "</style>\n",
       "<table border=\"1\" class=\"dataframe\">\n",
       "  <thead>\n",
       "    <tr style=\"text-align: right;\">\n",
       "      <th></th>\n",
       "      <th>id</th>\n",
       "      <th>name</th>\n",
       "      <th>followers</th>\n",
       "      <th>following</th>\n",
       "      <th>tracks</th>\n",
       "    </tr>\n",
       "  </thead>\n",
       "  <tbody>\n",
       "    <tr>\n",
       "      <th>0</th>\n",
       "      <td>1</td>\n",
       "      <td>TMN Playlisted</td>\n",
       "      <td>21.6K</td>\n",
       "      <td>116</td>\n",
       "      <td>2</td>\n",
       "    </tr>\n",
       "    <tr>\n",
       "      <th>1</th>\n",
       "      <td>2</td>\n",
       "      <td>nymano</td>\n",
       "      <td>69.1K</td>\n",
       "      <td>512</td>\n",
       "      <td>79</td>\n",
       "    </tr>\n",
       "    <tr>\n",
       "      <th>2</th>\n",
       "      <td>3</td>\n",
       "      <td>Agami</td>\n",
       "      <td>14.7K</td>\n",
       "      <td>598</td>\n",
       "      <td>1</td>\n",
       "    </tr>\n",
       "    <tr>\n",
       "      <th>3</th>\n",
       "      <td>4</td>\n",
       "      <td>Levi Patel</td>\n",
       "      <td>14.7K</td>\n",
       "      <td>433</td>\n",
       "      <td>19</td>\n",
       "    </tr>\n",
       "    <tr>\n",
       "      <th>4</th>\n",
       "      <td>5</td>\n",
       "      <td>Alice Baldwin</td>\n",
       "      <td>4,680</td>\n",
       "      <td>117</td>\n",
       "      <td>18</td>\n",
       "    </tr>\n",
       "  </tbody>\n",
       "</table>\n",
       "</div>"
      ],
      "text/plain": [
       "   id            name followers following tracks\n",
       "0   1  TMN Playlisted     21.6K       116      2\n",
       "1   2          nymano     69.1K       512     79\n",
       "2   3           Agami     14.7K       598      1\n",
       "3   4      Levi Patel     14.7K       433     19\n",
       "4   5   Alice Baldwin     4,680       117     18"
      ]
     },
     "execution_count": 9,
     "metadata": {},
     "output_type": "execute_result"
    }
   ],
   "source": [
    "users_df.head()"
   ]
  },
  {
   "cell_type": "markdown",
   "id": "a43ab62d",
   "metadata": {},
   "source": [
    "Let's start with the \"users\" dataframe. We check for the first 5 rows of it. "
   ]
  },
  {
   "cell_type": "code",
   "execution_count": 10,
   "id": "752b38c8",
   "metadata": {
    "scrolled": false
   },
   "outputs": [
    {
     "data": {
      "text/html": [
       "<div>\n",
       "<style scoped>\n",
       "    .dataframe tbody tr th:only-of-type {\n",
       "        vertical-align: middle;\n",
       "    }\n",
       "\n",
       "    .dataframe tbody tr th {\n",
       "        vertical-align: top;\n",
       "    }\n",
       "\n",
       "    .dataframe thead th {\n",
       "        text-align: right;\n",
       "    }\n",
       "</style>\n",
       "<table border=\"1\" class=\"dataframe\">\n",
       "  <thead>\n",
       "    <tr style=\"text-align: right;\">\n",
       "      <th></th>\n",
       "      <th>id</th>\n",
       "      <th>name</th>\n",
       "      <th>followers</th>\n",
       "      <th>following</th>\n",
       "      <th>tracks</th>\n",
       "    </tr>\n",
       "  </thead>\n",
       "  <tbody>\n",
       "    <tr>\n",
       "      <th>0</th>\n",
       "      <td>1</td>\n",
       "      <td>TMN Playlisted</td>\n",
       "      <td>21.6K</td>\n",
       "      <td>116</td>\n",
       "      <td>2</td>\n",
       "    </tr>\n",
       "    <tr>\n",
       "      <th>1</th>\n",
       "      <td>2</td>\n",
       "      <td>nymano</td>\n",
       "      <td>69.1K</td>\n",
       "      <td>512</td>\n",
       "      <td>79</td>\n",
       "    </tr>\n",
       "    <tr>\n",
       "      <th>2</th>\n",
       "      <td>3</td>\n",
       "      <td>Agami</td>\n",
       "      <td>14.7K</td>\n",
       "      <td>598</td>\n",
       "      <td>1</td>\n",
       "    </tr>\n",
       "    <tr>\n",
       "      <th>3</th>\n",
       "      <td>4</td>\n",
       "      <td>Levi Patel</td>\n",
       "      <td>14.7K</td>\n",
       "      <td>433</td>\n",
       "      <td>19</td>\n",
       "    </tr>\n",
       "    <tr>\n",
       "      <th>4</th>\n",
       "      <td>5</td>\n",
       "      <td>Alice Baldwin</td>\n",
       "      <td>4,680</td>\n",
       "      <td>117</td>\n",
       "      <td>18</td>\n",
       "    </tr>\n",
       "  </tbody>\n",
       "</table>\n",
       "</div>"
      ],
      "text/plain": [
       "   id            name followers following tracks\n",
       "0   1  TMN Playlisted     21.6K       116      2\n",
       "1   2          nymano     69.1K       512     79\n",
       "2   3           Agami     14.7K       598      1\n",
       "3   4      Levi Patel     14.7K       433     19\n",
       "4   5   Alice Baldwin     4,680       117     18"
      ]
     },
     "execution_count": 10,
     "metadata": {},
     "output_type": "execute_result"
    }
   ],
   "source": [
    "users_df.head()"
   ]
  },
  {
   "cell_type": "markdown",
   "id": "27b6e405",
   "metadata": {},
   "source": [
    "The meaning of each column is:\n",
    "+ id: the id of the user (categorical)\n",
    "+ name: the username of the user (categorical)\n",
    "+ followers: number of followers (numeric)\n",
    "+ following: number of people that a user follows (numeric)\n",
    "+ tracks: the number of tracks (numeric)\n",
    "\n",
    "The name \"tracks\" is quite ambiguous, let's rename it so it's clearer to understand"
   ]
  },
  {
   "cell_type": "code",
   "execution_count": 11,
   "id": "64c9440c",
   "metadata": {},
   "outputs": [],
   "source": [
    "users_df.rename(columns={\"tracks\": \"NumTracks\"}, inplace=True)\n",
    "users_df.rename(columns={\"id\": \"author_id\"}, inplace=True)\n",
    "users_df.set_index('author_id', inplace=True)"
   ]
  },
  {
   "cell_type": "markdown",
   "id": "1c1c4ec1",
   "metadata": {},
   "source": [
    "We check for any duplicated rows in the dataframe"
   ]
  },
  {
   "cell_type": "code",
   "execution_count": 12,
   "id": "894df2fb",
   "metadata": {},
   "outputs": [
    {
     "name": "stdout",
     "output_type": "stream",
     "text": [
      "There are duplicated rows\n"
     ]
    }
   ],
   "source": [
    "check_user_dup = users_df.duplicated().any()\n",
    "if check_user_dup:\n",
    "    print(\"There are duplicated rows\")\n",
    "else:\n",
    "    print(\"There is no duplicated rows\")"
   ]
  },
  {
   "cell_type": "markdown",
   "id": "ae0113e4",
   "metadata": {},
   "source": [
    "Wow, there are duplicated rows. We have to make each row unique and remove duplicated ones"
   ]
  },
  {
   "cell_type": "code",
   "execution_count": 13,
   "id": "40451f02",
   "metadata": {},
   "outputs": [],
   "source": [
    "users_df.drop_duplicates(inplace=True)"
   ]
  },
  {
   "cell_type": "markdown",
   "id": "5ead4bb4",
   "metadata": {},
   "source": [
    "After removing duplicated values, we check for the number of rows and columns"
   ]
  },
  {
   "cell_type": "code",
   "execution_count": 14,
   "id": "98660b18",
   "metadata": {},
   "outputs": [
    {
     "name": "stdout",
     "output_type": "stream",
     "text": [
      "Number of rows: 2893\n",
      "Number of columns: 4\n"
     ]
    }
   ],
   "source": [
    "print(\"Number of rows: \"+str(users_df.shape[0]))\n",
    "print(\"Number of columns: \"+str(users_df.shape[1]))"
   ]
  },
  {
   "cell_type": "markdown",
   "id": "39da8ffd",
   "metadata": {},
   "source": [
    "We check if there are any missing data in the dataframe"
   ]
  },
  {
   "cell_type": "code",
   "execution_count": 15,
   "id": "e3aea071",
   "metadata": {},
   "outputs": [
    {
     "data": {
      "text/plain": [
       "name        0.06913\n",
       "followers   0.17283\n",
       "following   0.20740\n",
       "NumTracks   0.20740\n",
       "dtype: float64"
      ]
     },
     "execution_count": 15,
     "metadata": {},
     "output_type": "execute_result"
    }
   ],
   "source": [
    "col_users_key = list(users_df.keys())\n",
    "percent_missing = users_df[col_users_key].isnull().sum() * 100 / len(users_df)\n",
    "percent_missing"
   ]
  },
  {
   "cell_type": "markdown",
   "id": "4001aff5",
   "metadata": {},
   "source": [
    "Since there are very small number of rows that exist \"null\" values, we can drop them "
   ]
  },
  {
   "cell_type": "code",
   "execution_count": 16,
   "id": "eda3aeb7",
   "metadata": {},
   "outputs": [
    {
     "name": "stdout",
     "output_type": "stream",
     "text": [
      "Number of rows: 2886\n",
      "Number of columns: 4\n"
     ]
    }
   ],
   "source": [
    "users_df.dropna(inplace=True)\n",
    "print(\"Number of rows: \"+str(users_df.shape[0]))\n",
    "print(\"Number of columns: \"+str(users_df.shape[1]))"
   ]
  },
  {
   "cell_type": "markdown",
   "id": "87018562",
   "metadata": {},
   "source": [
    "Next, we see what the data type of each column"
   ]
  },
  {
   "cell_type": "code",
   "execution_count": 17,
   "id": "b26a1017",
   "metadata": {},
   "outputs": [
    {
     "data": {
      "text/plain": [
       "name         object\n",
       "followers    object\n",
       "following    object\n",
       "NumTracks    object\n",
       "dtype: object"
      ]
     },
     "execution_count": 17,
     "metadata": {},
     "output_type": "execute_result"
    }
   ],
   "source": [
    "users_df.dtypes"
   ]
  },
  {
   "cell_type": "markdown",
   "id": "fbcea7ba",
   "metadata": {},
   "source": [
    "We find that the number of followers, following and num tracks are not in the correct type, it should be in \"int\" type"
   ]
  },
  {
   "cell_type": "code",
   "execution_count": 18,
   "id": "e966044e",
   "metadata": {},
   "outputs": [],
   "source": [
    "def change_number(s):\n",
    "    to_change = list(set(s))\n",
    "    change = []\n",
    "    for item in to_change:\n",
    "        temp = item\n",
    "        if (\"K\" in item) and (\".\" not in item): \n",
    "            temp = item.replace(\"K\", \"000\")\n",
    "        elif (\"K\" in item) and (\".\" in item): \n",
    "            temp = item.replace(\"K\", \"00\").replace(\".\", \"\")\n",
    "        elif (\"M\" in item) and (\".\" not in item): \n",
    "            temp = item.replace(\"M\", \"000000\")\n",
    "        elif (\"M\" in item) and (\".\" in item) and (len(temp)==4): \n",
    "            temp = item.replace(\"M\", \"00000\").replace(\".\", \"\")\n",
    "        elif (\"M\" in item) and (\".\" in item) and (len(temp)==5): \n",
    "            temp = item.replace(\"M\", \"0000\").replace(\".\", \"\")\n",
    "        elif (\",\" in item):\n",
    "            temp = item.replace(\",\", \"\")\n",
    "        change.append(temp)\n",
    "    return to_change, change"
   ]
  },
  {
   "attachments": {},
   "cell_type": "markdown",
   "id": "92f52479",
   "metadata": {},
   "source": [
    "Reformat the data in the dataframe"
   ]
  },
  {
   "cell_type": "code",
   "execution_count": 20,
   "id": "834b00bd",
   "metadata": {},
   "outputs": [],
   "source": [
    "num_track_to_change, num_track_change = change_number(users_df['NumTracks'])\n",
    "users_df['NumTracks'] = users_df['NumTracks'].replace(num_track_to_change, num_track_change)\n",
    "follower_to_change, follower_change = change_number(users_df['followers'])\n",
    "users_df['followers'] = users_df['followers'].replace(follower_to_change, follower_change)\n",
    "following_to_change, following_change = change_number(users_df['following'])\n",
    "users_df['following'] = users_df['following'].replace(following_to_change, following_change)\n",
    "\n",
    "users_df[\"NumTracks\"] = users_df['NumTracks'].astype(int)\n",
    "users_df['followers'] = users_df['followers'].astype(int)\n",
    "users_df['following'] = users_df['following'].astype(int)"
   ]
  },
  {
   "cell_type": "markdown",
   "id": "ff011c1d",
   "metadata": {},
   "source": [
    "Let's have a look at how the data distribute"
   ]
  },
  {
   "cell_type": "code",
   "execution_count": 21,
   "id": "e5a802ec",
   "metadata": {},
   "outputs": [
    {
     "data": {
      "text/html": [
       "<div>\n",
       "<style scoped>\n",
       "    .dataframe tbody tr th:only-of-type {\n",
       "        vertical-align: middle;\n",
       "    }\n",
       "\n",
       "    .dataframe tbody tr th {\n",
       "        vertical-align: top;\n",
       "    }\n",
       "\n",
       "    .dataframe thead th {\n",
       "        text-align: right;\n",
       "    }\n",
       "</style>\n",
       "<table border=\"1\" class=\"dataframe\">\n",
       "  <thead>\n",
       "    <tr style=\"text-align: right;\">\n",
       "      <th></th>\n",
       "      <th>followers</th>\n",
       "      <th>following</th>\n",
       "      <th>NumTracks</th>\n",
       "    </tr>\n",
       "  </thead>\n",
       "  <tbody>\n",
       "    <tr>\n",
       "      <th>count</th>\n",
       "      <td>2886.00000</td>\n",
       "      <td>2886.00000</td>\n",
       "      <td>2886.00000</td>\n",
       "    </tr>\n",
       "    <tr>\n",
       "      <th>mean</th>\n",
       "      <td>178472.59459</td>\n",
       "      <td>130.61296</td>\n",
       "      <td>97.39744</td>\n",
       "    </tr>\n",
       "    <tr>\n",
       "      <th>std</th>\n",
       "      <td>810164.81229</td>\n",
       "      <td>310.78059</td>\n",
       "      <td>444.55766</td>\n",
       "    </tr>\n",
       "    <tr>\n",
       "      <th>min</th>\n",
       "      <td>0.00000</td>\n",
       "      <td>0.00000</td>\n",
       "      <td>0.00000</td>\n",
       "    </tr>\n",
       "    <tr>\n",
       "      <th>25%</th>\n",
       "      <td>174.50000</td>\n",
       "      <td>1.00000</td>\n",
       "      <td>0.00000</td>\n",
       "    </tr>\n",
       "    <tr>\n",
       "      <th>50%</th>\n",
       "      <td>2549.00000</td>\n",
       "      <td>15.00000</td>\n",
       "      <td>13.00000</td>\n",
       "    </tr>\n",
       "    <tr>\n",
       "      <th>75%</th>\n",
       "      <td>13300.00000</td>\n",
       "      <td>94.75000</td>\n",
       "      <td>50.00000</td>\n",
       "    </tr>\n",
       "    <tr>\n",
       "      <th>max</th>\n",
       "      <td>9510000.00000</td>\n",
       "      <td>2027.00000</td>\n",
       "      <td>12100.00000</td>\n",
       "    </tr>\n",
       "  </tbody>\n",
       "</table>\n",
       "</div>"
      ],
      "text/plain": [
       "          followers  following   NumTracks\n",
       "count    2886.00000 2886.00000  2886.00000\n",
       "mean   178472.59459  130.61296    97.39744\n",
       "std    810164.81229  310.78059   444.55766\n",
       "min         0.00000    0.00000     0.00000\n",
       "25%       174.50000    1.00000     0.00000\n",
       "50%      2549.00000   15.00000    13.00000\n",
       "75%     13300.00000   94.75000    50.00000\n",
       "max   9510000.00000 2027.00000 12100.00000"
      ]
     },
     "execution_count": 21,
     "metadata": {},
     "output_type": "execute_result"
    }
   ],
   "source": [
    "users_df.describe()"
   ]
  },
  {
   "cell_type": "markdown",
   "id": "77e25767",
   "metadata": {},
   "source": [
    "Moving on, we work with the \"tracks\". We look for the first 5 rows"
   ]
  },
  {
   "cell_type": "code",
   "execution_count": 22,
   "id": "d610b4ca",
   "metadata": {},
   "outputs": [
    {
     "data": {
      "text/html": [
       "<div>\n",
       "<style scoped>\n",
       "    .dataframe tbody tr th:only-of-type {\n",
       "        vertical-align: middle;\n",
       "    }\n",
       "\n",
       "    .dataframe tbody tr th {\n",
       "        vertical-align: top;\n",
       "    }\n",
       "\n",
       "    .dataframe thead th {\n",
       "        text-align: right;\n",
       "    }\n",
       "</style>\n",
       "<table border=\"1\" class=\"dataframe\">\n",
       "  <thead>\n",
       "    <tr style=\"text-align: right;\">\n",
       "      <th></th>\n",
       "      <th>id</th>\n",
       "      <th>title</th>\n",
       "      <th>author</th>\n",
       "      <th>plays</th>\n",
       "      <th>likes</th>\n",
       "      <th>reposts</th>\n",
       "      <th>release</th>\n",
       "    </tr>\n",
       "  </thead>\n",
       "  <tbody>\n",
       "    <tr>\n",
       "      <th>0</th>\n",
       "      <td>1</td>\n",
       "      <td>solitude</td>\n",
       "      <td>2</td>\n",
       "      <td>18,184,198</td>\n",
       "      <td>298,037</td>\n",
       "      <td>14,517</td>\n",
       "      <td>7 years ago\\n7 years ago</td>\n",
       "    </tr>\n",
       "    <tr>\n",
       "      <th>1</th>\n",
       "      <td>2</td>\n",
       "      <td>quand la pluie tombe (also uploaded for The Vi...</td>\n",
       "      <td>2</td>\n",
       "      <td>11,928,581</td>\n",
       "      <td>155,823</td>\n",
       "      <td>7,556</td>\n",
       "      <td>8 years ago\\n8 years ago</td>\n",
       "    </tr>\n",
       "    <tr>\n",
       "      <th>2</th>\n",
       "      <td>3</td>\n",
       "      <td>As she passes</td>\n",
       "      <td>4</td>\n",
       "      <td>15,385,582</td>\n",
       "      <td>228,383</td>\n",
       "      <td>7,815</td>\n",
       "      <td>7 years ago\\n7 years ago</td>\n",
       "    </tr>\n",
       "    <tr>\n",
       "      <th>3</th>\n",
       "      <td>4</td>\n",
       "      <td>Was am Ende</td>\n",
       "      <td>5</td>\n",
       "      <td>3,865,947</td>\n",
       "      <td>37,123</td>\n",
       "      <td>1,447</td>\n",
       "      <td>3 years ago\\n3 years ago</td>\n",
       "    </tr>\n",
       "    <tr>\n",
       "      <th>4</th>\n",
       "      <td>5</td>\n",
       "      <td>Making All Things New (Waterman/Espe) - Record...</td>\n",
       "      <td>7</td>\n",
       "      <td>5,974,821</td>\n",
       "      <td>123,856</td>\n",
       "      <td>3,261</td>\n",
       "      <td>8 years ago\\n8 years ago</td>\n",
       "    </tr>\n",
       "  </tbody>\n",
       "</table>\n",
       "</div>"
      ],
      "text/plain": [
       "   id                                              title  author       plays  \\\n",
       "0   1                                           solitude       2  18,184,198   \n",
       "1   2  quand la pluie tombe (also uploaded for The Vi...       2  11,928,581   \n",
       "2   3                                      As she passes       4  15,385,582   \n",
       "3   4                                        Was am Ende       5   3,865,947   \n",
       "4   5  Making All Things New (Waterman/Espe) - Record...       7   5,974,821   \n",
       "\n",
       "     likes reposts                   release  \n",
       "0  298,037  14,517  7 years ago\\n7 years ago  \n",
       "1  155,823   7,556  8 years ago\\n8 years ago  \n",
       "2  228,383   7,815  7 years ago\\n7 years ago  \n",
       "3   37,123   1,447  3 years ago\\n3 years ago  \n",
       "4  123,856   3,261  8 years ago\\n8 years ago  "
      ]
     },
     "execution_count": 22,
     "metadata": {},
     "output_type": "execute_result"
    }
   ],
   "source": [
    "tracks_df.head()"
   ]
  },
  {
   "cell_type": "markdown",
   "id": "0b60206e",
   "metadata": {},
   "source": [
    "The meaning of each column is:\n",
    "+ id: the id of the track (categorical)\n",
    "+ title: name of the track (categorical)\n",
    "+ author: person who makes the track (numeric)\n",
    "+ plays: total play count of a track\n",
    "+ likes: number of people like a track (numeric)\n",
    "+ reposts: number of reposting (numeric)\n",
    "+ release: total years/months/days since the track first released (categorical)\n",
    "\n",
    "We will change the columns' name to make it easier"
   ]
  },
  {
   "cell_type": "code",
   "execution_count": 23,
   "id": "49c35782",
   "metadata": {},
   "outputs": [],
   "source": [
    "tracks_df.rename(columns={\"author\": \"author_id\", \"plays\": \"total_plays\", \"release\": \"year_release\", \"id\": \"track_id\"}, inplace=True)\n",
    "tracks_df.set_index('track_id', inplace=True)"
   ]
  },
  {
   "cell_type": "markdown",
   "id": "90ba1c69",
   "metadata": {},
   "source": [
    "We check for duplicates in the above dataframe"
   ]
  },
  {
   "cell_type": "code",
   "execution_count": 24,
   "id": "ba1bfd49",
   "metadata": {},
   "outputs": [
    {
     "name": "stdout",
     "output_type": "stream",
     "text": [
      "There are duplicated rows\n"
     ]
    }
   ],
   "source": [
    "check_track_dup = tracks_df.duplicated().any()\n",
    "if check_track_dup:\n",
    "    print(\"There are duplicated rows\")\n",
    "else:\n",
    "    print(\"There is no duplicated rows\")"
   ]
  },
  {
   "cell_type": "markdown",
   "id": "c6a582f7",
   "metadata": {},
   "source": [
    "Awesome! Now we look for the number of rows and columns"
   ]
  },
  {
   "cell_type": "code",
   "execution_count": 25,
   "id": "4e5b4630",
   "metadata": {},
   "outputs": [
    {
     "name": "stdout",
     "output_type": "stream",
     "text": [
      "Number of rows: 2074\n",
      "Number of columns: 6\n"
     ]
    }
   ],
   "source": [
    "print(\"Number of rows: \"+str(tracks_df.shape[0]))\n",
    "print(\"Number of columns: \"+str(tracks_df.shape[1]))"
   ]
  },
  {
   "cell_type": "markdown",
   "id": "c057b5e5",
   "metadata": {},
   "source": [
    "Okay, let's look for missing values, shall we?"
   ]
  },
  {
   "cell_type": "code",
   "execution_count": 26,
   "id": "010952b6",
   "metadata": {},
   "outputs": [
    {
     "data": {
      "text/plain": [
       "title          0.04822\n",
       "author_id      0.00000\n",
       "total_plays    0.00000\n",
       "likes          0.00000\n",
       "reposts        0.00000\n",
       "year_release   0.00000\n",
       "dtype: float64"
      ]
     },
     "execution_count": 26,
     "metadata": {},
     "output_type": "execute_result"
    }
   ],
   "source": [
    "col_tracks_key = list(tracks_df.keys())\n",
    "percent_missing = tracks_df[col_tracks_key].isnull().sum() * 100 / len(tracks_df)\n",
    "percent_missing"
   ]
  },
  {
   "cell_type": "markdown",
   "id": "82b76d45",
   "metadata": {},
   "source": [
    "Hmmm, there are some missing titles. Since the missing ratio is too insignificant, we can dop them."
   ]
  },
  {
   "cell_type": "code",
   "execution_count": 27,
   "id": "49bc63c2",
   "metadata": {},
   "outputs": [
    {
     "name": "stdout",
     "output_type": "stream",
     "text": [
      "Number of rows: 2073\n",
      "Number of columns: 6\n"
     ]
    }
   ],
   "source": [
    "tracks_df.dropna(inplace=True)\n",
    "print(\"Number of rows: \"+str(tracks_df.shape[0]))\n",
    "print(\"Number of columns: \"+str(tracks_df.shape[1]))"
   ]
  },
  {
   "cell_type": "markdown",
   "id": "a4a41d19",
   "metadata": {},
   "source": [
    "Now, the important part is to check for the data type and convert them accordingly to its supposingly correct one"
   ]
  },
  {
   "cell_type": "code",
   "execution_count": 28,
   "id": "ecf23444",
   "metadata": {},
   "outputs": [
    {
     "data": {
      "text/plain": [
       "title           object\n",
       "author_id        int64\n",
       "total_plays     object\n",
       "likes           object\n",
       "reposts         object\n",
       "year_release    object\n",
       "dtype: object"
      ]
     },
     "execution_count": 28,
     "metadata": {},
     "output_type": "execute_result"
    }
   ],
   "source": [
    "tracks_df.dtypes"
   ]
  },
  {
   "cell_type": "code",
   "execution_count": 29,
   "id": "3b62b5ad",
   "metadata": {},
   "outputs": [
    {
     "data": {
      "text/html": [
       "<div>\n",
       "<style scoped>\n",
       "    .dataframe tbody tr th:only-of-type {\n",
       "        vertical-align: middle;\n",
       "    }\n",
       "\n",
       "    .dataframe tbody tr th {\n",
       "        vertical-align: top;\n",
       "    }\n",
       "\n",
       "    .dataframe thead th {\n",
       "        text-align: right;\n",
       "    }\n",
       "</style>\n",
       "<table border=\"1\" class=\"dataframe\">\n",
       "  <thead>\n",
       "    <tr style=\"text-align: right;\">\n",
       "      <th></th>\n",
       "      <th>title</th>\n",
       "      <th>author_id</th>\n",
       "      <th>total_plays</th>\n",
       "      <th>likes</th>\n",
       "      <th>reposts</th>\n",
       "      <th>year_release</th>\n",
       "    </tr>\n",
       "    <tr>\n",
       "      <th>track_id</th>\n",
       "      <th></th>\n",
       "      <th></th>\n",
       "      <th></th>\n",
       "      <th></th>\n",
       "      <th></th>\n",
       "      <th></th>\n",
       "    </tr>\n",
       "  </thead>\n",
       "  <tbody>\n",
       "    <tr>\n",
       "      <th>1</th>\n",
       "      <td>solitude</td>\n",
       "      <td>2</td>\n",
       "      <td>18184198</td>\n",
       "      <td>298037</td>\n",
       "      <td>14517</td>\n",
       "      <td>2015</td>\n",
       "    </tr>\n",
       "    <tr>\n",
       "      <th>2</th>\n",
       "      <td>quand la pluie tombe (also uploaded for The Vi...</td>\n",
       "      <td>2</td>\n",
       "      <td>11928581</td>\n",
       "      <td>155823</td>\n",
       "      <td>7556</td>\n",
       "      <td>2014</td>\n",
       "    </tr>\n",
       "    <tr>\n",
       "      <th>3</th>\n",
       "      <td>As she passes</td>\n",
       "      <td>4</td>\n",
       "      <td>15385582</td>\n",
       "      <td>228383</td>\n",
       "      <td>7815</td>\n",
       "      <td>2015</td>\n",
       "    </tr>\n",
       "    <tr>\n",
       "      <th>4</th>\n",
       "      <td>Was am Ende</td>\n",
       "      <td>5</td>\n",
       "      <td>3865947</td>\n",
       "      <td>37123</td>\n",
       "      <td>1447</td>\n",
       "      <td>2019</td>\n",
       "    </tr>\n",
       "    <tr>\n",
       "      <th>5</th>\n",
       "      <td>Making All Things New (Waterman/Espe) - Record...</td>\n",
       "      <td>7</td>\n",
       "      <td>5974821</td>\n",
       "      <td>123856</td>\n",
       "      <td>3261</td>\n",
       "      <td>2014</td>\n",
       "    </tr>\n",
       "  </tbody>\n",
       "</table>\n",
       "</div>"
      ],
      "text/plain": [
       "                                                      title  author_id  \\\n",
       "track_id                                                                 \n",
       "1                                                  solitude          2   \n",
       "2         quand la pluie tombe (also uploaded for The Vi...          2   \n",
       "3                                             As she passes          4   \n",
       "4                                               Was am Ende          5   \n",
       "5         Making All Things New (Waterman/Espe) - Record...          7   \n",
       "\n",
       "          total_plays   likes  reposts  year_release  \n",
       "track_id                                              \n",
       "1            18184198  298037    14517          2015  \n",
       "2            11928581  155823     7556          2014  \n",
       "3            15385582  228383     7815          2015  \n",
       "4             3865947   37123     1447          2019  \n",
       "5             5974821  123856     3261          2014  "
      ]
     },
     "execution_count": 29,
     "metadata": {},
     "output_type": "execute_result"
    }
   ],
   "source": [
    "total_play_to_change, total_play_change = change_number(tracks_df['total_plays'])\n",
    "tracks_df['total_plays'] = tracks_df['total_plays'].replace(total_play_to_change, total_play_change)\n",
    "tracks_df['total_plays'] = tracks_df['total_plays'].astype(int)\n",
    "likes_to_change, likes_change = change_number(tracks_df['likes'])\n",
    "tracks_df['likes'] = tracks_df['likes'].replace(likes_to_change, likes_change)\n",
    "tracks_df['likes'] = tracks_df['likes'].astype(int)\n",
    "reposts_to_change, reposts_change = change_number(tracks_df['reposts'])\n",
    "tracks_df['reposts'] = tracks_df['reposts'].replace(reposts_to_change, reposts_change)\n",
    "tracks_df['reposts'] = tracks_df['reposts'].astype(int)\n",
    "\n",
    "release_to_change = list(set(tracks_df['year_release']))\n",
    "release_change = [x.split(\"\\n\")[1] for x in release_to_change] \n",
    "tracks_df['year_release'] = tracks_df['year_release'].replace(release_to_change, release_change)\n",
    "to_year = [2022-int(x.split(\" \")[0]) if \"year\" in x else 2022 for x in release_change] \n",
    "tracks_df['year_release'] = tracks_df['year_release'].replace(release_change, to_year)\n",
    "tracks_df.head()"
   ]
  },
  {
   "cell_type": "markdown",
   "id": "b9b3d345",
   "metadata": {},
   "source": [
    "Let's have a look at how the data distribute"
   ]
  },
  {
   "cell_type": "code",
   "execution_count": 30,
   "id": "ba2bf15d",
   "metadata": {},
   "outputs": [
    {
     "data": {
      "text/html": [
       "<div>\n",
       "<style scoped>\n",
       "    .dataframe tbody tr th:only-of-type {\n",
       "        vertical-align: middle;\n",
       "    }\n",
       "\n",
       "    .dataframe tbody tr th {\n",
       "        vertical-align: top;\n",
       "    }\n",
       "\n",
       "    .dataframe thead th {\n",
       "        text-align: right;\n",
       "    }\n",
       "</style>\n",
       "<table border=\"1\" class=\"dataframe\">\n",
       "  <thead>\n",
       "    <tr style=\"text-align: right;\">\n",
       "      <th></th>\n",
       "      <th>total_plays</th>\n",
       "      <th>likes</th>\n",
       "      <th>reposts</th>\n",
       "      <th>year_release</th>\n",
       "    </tr>\n",
       "  </thead>\n",
       "  <tbody>\n",
       "    <tr>\n",
       "      <th>count</th>\n",
       "      <td>2073.00000</td>\n",
       "      <td>2073.00000</td>\n",
       "      <td>2073.00000</td>\n",
       "      <td>2073.00000</td>\n",
       "    </tr>\n",
       "    <tr>\n",
       "      <th>mean</th>\n",
       "      <td>10914330.15388</td>\n",
       "      <td>149387.32465</td>\n",
       "      <td>9689.08056</td>\n",
       "      <td>2015.63965</td>\n",
       "    </tr>\n",
       "    <tr>\n",
       "      <th>std</th>\n",
       "      <td>30547982.35685</td>\n",
       "      <td>359681.87191</td>\n",
       "      <td>38807.33667</td>\n",
       "      <td>3.94385</td>\n",
       "    </tr>\n",
       "    <tr>\n",
       "      <th>min</th>\n",
       "      <td>0.00000</td>\n",
       "      <td>0.00000</td>\n",
       "      <td>0.00000</td>\n",
       "      <td>1965.00000</td>\n",
       "    </tr>\n",
       "    <tr>\n",
       "      <th>25%</th>\n",
       "      <td>128689.00000</td>\n",
       "      <td>1642.00000</td>\n",
       "      <td>87.00000</td>\n",
       "      <td>2014.00000</td>\n",
       "    </tr>\n",
       "    <tr>\n",
       "      <th>50%</th>\n",
       "      <td>1001579.00000</td>\n",
       "      <td>15059.00000</td>\n",
       "      <td>763.00000</td>\n",
       "      <td>2015.00000</td>\n",
       "    </tr>\n",
       "    <tr>\n",
       "      <th>75%</th>\n",
       "      <td>6712317.00000</td>\n",
       "      <td>106360.00000</td>\n",
       "      <td>5377.00000</td>\n",
       "      <td>2018.00000</td>\n",
       "    </tr>\n",
       "    <tr>\n",
       "      <th>max</th>\n",
       "      <td>326472925.00000</td>\n",
       "      <td>3164571.00000</td>\n",
       "      <td>1402199.00000</td>\n",
       "      <td>2022.00000</td>\n",
       "    </tr>\n",
       "  </tbody>\n",
       "</table>\n",
       "</div>"
      ],
      "text/plain": [
       "          total_plays         likes       reposts  year_release\n",
       "count      2073.00000    2073.00000    2073.00000    2073.00000\n",
       "mean   10914330.15388  149387.32465    9689.08056    2015.63965\n",
       "std    30547982.35685  359681.87191   38807.33667       3.94385\n",
       "min           0.00000       0.00000       0.00000    1965.00000\n",
       "25%      128689.00000    1642.00000      87.00000    2014.00000\n",
       "50%     1001579.00000   15059.00000     763.00000    2015.00000\n",
       "75%     6712317.00000  106360.00000    5377.00000    2018.00000\n",
       "max   326472925.00000 3164571.00000 1402199.00000    2022.00000"
      ]
     },
     "execution_count": 30,
     "metadata": {},
     "output_type": "execute_result"
    }
   ],
   "source": [
    "tracks_df.describe().drop(columns=['author_id'])"
   ]
  },
  {
   "cell_type": "markdown",
   "id": "d14604ad",
   "metadata": {},
   "source": [
    "Finally, we will work with the \"playlists\""
   ]
  },
  {
   "cell_type": "code",
   "execution_count": 31,
   "id": "243cc493",
   "metadata": {},
   "outputs": [],
   "source": [
    "playlists_df.head()\n",
    "playlists_df.set_index('id', inplace=True)"
   ]
  },
  {
   "cell_type": "markdown",
   "id": "feb479c4",
   "metadata": {},
   "source": [
    "The meaning of each column is:\n",
    "+ id: the ID for the playlist\n",
    "+ title: name of the playlist\n",
    "+ author: the ID of the author who creates the playlist\n",
    "+ tracks: the ID of the first 2 tracks of the playlist\n",
    "+ likes: number of likes\n",
    "+ reposts: number of reposts\n",
    "+ release: the years/months/days released\n",
    "\n",
    "We should change the name of some of the columns for clarity"
   ]
  },
  {
   "cell_type": "code",
   "execution_count": 32,
   "id": "96821414",
   "metadata": {},
   "outputs": [],
   "source": [
    "playlists_df.rename(columns={\"author\": \"author_id\", \"tracks\": \"first_2_tracks_id\", \\\n",
    "                             \"release\": \"year_release\"}, inplace=True)"
   ]
  },
  {
   "cell_type": "markdown",
   "id": "afabf3b3",
   "metadata": {},
   "source": [
    "We check for duplicates in the above dataframe"
   ]
  },
  {
   "cell_type": "code",
   "execution_count": 33,
   "id": "f41a18bd",
   "metadata": {},
   "outputs": [
    {
     "name": "stdout",
     "output_type": "stream",
     "text": [
      "There is no duplicated rows\n"
     ]
    }
   ],
   "source": [
    "check_playlist_dup = playlists_df.duplicated().any()\n",
    "if check_playlist_dup:\n",
    "    print(\"There are duplicated rows\")\n",
    "else:\n",
    "    print(\"There is no duplicated rows\")"
   ]
  },
  {
   "cell_type": "markdown",
   "id": "39b94d8c",
   "metadata": {},
   "source": [
    "Awesome! Now we look for the number of rows and columns"
   ]
  },
  {
   "cell_type": "code",
   "execution_count": 34,
   "id": "11f8d873",
   "metadata": {},
   "outputs": [
    {
     "name": "stdout",
     "output_type": "stream",
     "text": [
      "Number of rows: 1045\n",
      "Number of columns: 6\n"
     ]
    }
   ],
   "source": [
    "print(\"Number of rows: \"+str(playlists_df.shape[0]))\n",
    "print(\"Number of columns: \"+str(playlists_df.shape[1]))"
   ]
  },
  {
   "cell_type": "markdown",
   "id": "073b9b81",
   "metadata": {},
   "source": [
    "Okay, let's look for missing values, shall we?"
   ]
  },
  {
   "cell_type": "code",
   "execution_count": 35,
   "id": "92d94a90",
   "metadata": {},
   "outputs": [
    {
     "data": {
      "text/plain": [
       "title               0.00000\n",
       "author_id           0.00000\n",
       "first_2_tracks_id   0.00000\n",
       "likes               0.00000\n",
       "reposts             0.00000\n",
       "year_release        0.00000\n",
       "dtype: float64"
      ]
     },
     "execution_count": 35,
     "metadata": {},
     "output_type": "execute_result"
    }
   ],
   "source": [
    "col_playlists_key = list(playlists_df.keys())\n",
    "percent_missing = playlists_df[col_playlists_key].isnull().sum() * 100 / len(playlists_df)\n",
    "percent_missing"
   ]
  },
  {
   "cell_type": "markdown",
   "id": "da86f098",
   "metadata": {},
   "source": [
    "Awesome, we don't have to drop any rows. Now we move to check the data types and convert them if needed"
   ]
  },
  {
   "cell_type": "code",
   "execution_count": 36,
   "id": "51ee8031",
   "metadata": {},
   "outputs": [
    {
     "data": {
      "text/plain": [
       "title                object\n",
       "author_id             int64\n",
       "first_2_tracks_id    object\n",
       "likes                object\n",
       "reposts              object\n",
       "year_release         object\n",
       "dtype: object"
      ]
     },
     "execution_count": 36,
     "metadata": {},
     "output_type": "execute_result"
    }
   ],
   "source": [
    "playlists_df.dtypes"
   ]
  },
  {
   "cell_type": "code",
   "execution_count": 37,
   "id": "3485e6fb",
   "metadata": {},
   "outputs": [
    {
     "data": {
      "text/html": [
       "<div>\n",
       "<style scoped>\n",
       "    .dataframe tbody tr th:only-of-type {\n",
       "        vertical-align: middle;\n",
       "    }\n",
       "\n",
       "    .dataframe tbody tr th {\n",
       "        vertical-align: top;\n",
       "    }\n",
       "\n",
       "    .dataframe thead th {\n",
       "        text-align: right;\n",
       "    }\n",
       "</style>\n",
       "<table border=\"1\" class=\"dataframe\">\n",
       "  <thead>\n",
       "    <tr style=\"text-align: right;\">\n",
       "      <th></th>\n",
       "      <th>title</th>\n",
       "      <th>author_id</th>\n",
       "      <th>first_2_tracks_id</th>\n",
       "      <th>likes</th>\n",
       "      <th>reposts</th>\n",
       "      <th>year_release</th>\n",
       "    </tr>\n",
       "    <tr>\n",
       "      <th>id</th>\n",
       "      <th></th>\n",
       "      <th></th>\n",
       "      <th></th>\n",
       "      <th></th>\n",
       "      <th></th>\n",
       "      <th></th>\n",
       "    </tr>\n",
       "  </thead>\n",
       "  <tbody>\n",
       "    <tr>\n",
       "      <th>1</th>\n",
       "      <td>Acid Jazz</td>\n",
       "      <td>1</td>\n",
       "      <td>1,2</td>\n",
       "      <td>387000</td>\n",
       "      <td>35800</td>\n",
       "      <td>2016</td>\n",
       "    </tr>\n",
       "    <tr>\n",
       "      <th>2</th>\n",
       "      <td>Ambient piano</td>\n",
       "      <td>3</td>\n",
       "      <td>3,4</td>\n",
       "      <td>149000</td>\n",
       "      <td>9611</td>\n",
       "      <td>2016</td>\n",
       "    </tr>\n",
       "    <tr>\n",
       "      <th>3</th>\n",
       "      <td>As Beautiful As It Sounds</td>\n",
       "      <td>6</td>\n",
       "      <td>5,6</td>\n",
       "      <td>80100</td>\n",
       "      <td>4509</td>\n",
       "      <td>2015</td>\n",
       "    </tr>\n",
       "    <tr>\n",
       "      <th>4</th>\n",
       "      <td>ahmed</td>\n",
       "      <td>9</td>\n",
       "      <td>7,8</td>\n",
       "      <td>2</td>\n",
       "      <td>0</td>\n",
       "      <td>2020</td>\n",
       "    </tr>\n",
       "    <tr>\n",
       "      <th>5</th>\n",
       "      <td>Artists to Watch</td>\n",
       "      <td>12</td>\n",
       "      <td>9,10</td>\n",
       "      <td>34200</td>\n",
       "      <td>2089</td>\n",
       "      <td>2017</td>\n",
       "    </tr>\n",
       "  </tbody>\n",
       "</table>\n",
       "</div>"
      ],
      "text/plain": [
       "                        title  author_id first_2_tracks_id   likes  reposts  \\\n",
       "id                                                                            \n",
       "1                   Acid Jazz          1               1,2  387000    35800   \n",
       "2               Ambient piano          3               3,4  149000     9611   \n",
       "3   As Beautiful As It Sounds          6               5,6   80100     4509   \n",
       "4                       ahmed          9               7,8       2        0   \n",
       "5            Artists to Watch         12              9,10   34200     2089   \n",
       "\n",
       "    year_release  \n",
       "id                \n",
       "1           2016  \n",
       "2           2016  \n",
       "3           2015  \n",
       "4           2020  \n",
       "5           2017  "
      ]
     },
     "execution_count": 37,
     "metadata": {},
     "output_type": "execute_result"
    }
   ],
   "source": [
    "like_to_change, like_change = change_number(playlists_df['likes'])\n",
    "repost_to_change, repost_change = change_number(playlists_df['reposts'])\n",
    "\n",
    "playlists_df['likes'] = playlists_df['likes'].replace(like_to_change, like_change)\n",
    "playlists_df['likes'] = playlists_df['likes'].astype(int)\n",
    "playlists_df['reposts'] = playlists_df['reposts'].replace(repost_to_change, repost_change)\n",
    "playlists_df['reposts'] = playlists_df['reposts'].astype(int)\n",
    "\n",
    "year_to_change = list(set(playlists_df['year_release']))\n",
    "to_year = [2022-int(x.split(\" \")[0]) if \"year\" in x else 2022 for x in year_to_change] \n",
    "playlists_df['year_release'] = playlists_df['year_release'].replace(year_to_change, to_year)\n",
    "playlists_df.head(n=5)"
   ]
  },
  {
   "cell_type": "markdown",
   "id": "2827ccdc",
   "metadata": {},
   "source": [
    "Let's have a look at how the data distribute"
   ]
  },
  {
   "cell_type": "code",
   "execution_count": 38,
   "id": "940c3bfc",
   "metadata": {},
   "outputs": [
    {
     "data": {
      "text/html": [
       "<div>\n",
       "<style scoped>\n",
       "    .dataframe tbody tr th:only-of-type {\n",
       "        vertical-align: middle;\n",
       "    }\n",
       "\n",
       "    .dataframe tbody tr th {\n",
       "        vertical-align: top;\n",
       "    }\n",
       "\n",
       "    .dataframe thead th {\n",
       "        text-align: right;\n",
       "    }\n",
       "</style>\n",
       "<table border=\"1\" class=\"dataframe\">\n",
       "  <thead>\n",
       "    <tr style=\"text-align: right;\">\n",
       "      <th></th>\n",
       "      <th>likes</th>\n",
       "      <th>reposts</th>\n",
       "      <th>year_release</th>\n",
       "    </tr>\n",
       "  </thead>\n",
       "  <tbody>\n",
       "    <tr>\n",
       "      <th>count</th>\n",
       "      <td>1045.00000</td>\n",
       "      <td>1045.00000</td>\n",
       "      <td>1045.00000</td>\n",
       "    </tr>\n",
       "    <tr>\n",
       "      <th>mean</th>\n",
       "      <td>12334.79904</td>\n",
       "      <td>928.71388</td>\n",
       "      <td>2017.70335</td>\n",
       "    </tr>\n",
       "    <tr>\n",
       "      <th>std</th>\n",
       "      <td>37172.86578</td>\n",
       "      <td>2830.86907</td>\n",
       "      <td>2.55552</td>\n",
       "    </tr>\n",
       "    <tr>\n",
       "      <th>min</th>\n",
       "      <td>0.00000</td>\n",
       "      <td>0.00000</td>\n",
       "      <td>2011.00000</td>\n",
       "    </tr>\n",
       "    <tr>\n",
       "      <th>25%</th>\n",
       "      <td>3.00000</td>\n",
       "      <td>0.00000</td>\n",
       "      <td>2016.00000</td>\n",
       "    </tr>\n",
       "    <tr>\n",
       "      <th>50%</th>\n",
       "      <td>47.00000</td>\n",
       "      <td>4.00000</td>\n",
       "      <td>2017.00000</td>\n",
       "    </tr>\n",
       "    <tr>\n",
       "      <th>75%</th>\n",
       "      <td>6926.00000</td>\n",
       "      <td>557.00000</td>\n",
       "      <td>2020.00000</td>\n",
       "    </tr>\n",
       "    <tr>\n",
       "      <th>max</th>\n",
       "      <td>515000.00000</td>\n",
       "      <td>43200.00000</td>\n",
       "      <td>2022.00000</td>\n",
       "    </tr>\n",
       "  </tbody>\n",
       "</table>\n",
       "</div>"
      ],
      "text/plain": [
       "             likes     reposts  year_release\n",
       "count   1045.00000  1045.00000    1045.00000\n",
       "mean   12334.79904   928.71388    2017.70335\n",
       "std    37172.86578  2830.86907       2.55552\n",
       "min        0.00000     0.00000    2011.00000\n",
       "25%        3.00000     0.00000    2016.00000\n",
       "50%       47.00000     4.00000    2017.00000\n",
       "75%     6926.00000   557.00000    2020.00000\n",
       "max   515000.00000 43200.00000    2022.00000"
      ]
     },
     "execution_count": 38,
     "metadata": {},
     "output_type": "execute_result"
    }
   ],
   "source": [
    "playlists_df.describe().drop(columns=['author_id'])"
   ]
  },
  {
   "cell_type": "code",
   "execution_count": 39,
   "id": "5961004f",
   "metadata": {},
   "outputs": [
    {
     "data": {
      "text/plain": [
       "title                object\n",
       "author_id             int64\n",
       "first_2_tracks_id    object\n",
       "likes                 int64\n",
       "reposts               int64\n",
       "year_release          int64\n",
       "dtype: object"
      ]
     },
     "execution_count": 39,
     "metadata": {},
     "output_type": "execute_result"
    }
   ],
   "source": [
    "playlists_df.dtypes"
   ]
  },
  {
   "attachments": {},
   "cell_type": "markdown",
   "id": "9787dc1b",
   "metadata": {},
   "source": [
    "## Data Visualization"
   ]
  },
  {
   "cell_type": "markdown",
   "id": "c667d750",
   "metadata": {},
   "source": [
    "Merge 3 Dataframes to have the overview of the data"
   ]
  },
  {
   "cell_type": "code",
   "execution_count": 42,
   "id": "b24b9b86",
   "metadata": {},
   "outputs": [],
   "source": [
    "# Merge 3 dataframe\n",
    "new_data = playlists_df.merge(tracks_df.merge(users_df, how='inner', on='author_id'), how='inner', on='author_id')\n",
    "new_data.rename(columns = {'title_x':'playlist_title','likes_x': 'playlist_like', 'reposts_x': 'playlist_repost', 'year_release_x': 'playlist_year', 'title_y': 'track_title', 'likes_y': 'track_like', 'reposts_y':'track_repost','year_release_y': 'track_year_release', 'name': 'author_name'}, inplace = True)"
   ]
  },
  {
   "cell_type": "code",
   "execution_count": 43,
   "id": "ee74eaa8",
   "metadata": {},
   "outputs": [
    {
     "data": {
      "text/html": [
       "<div>\n",
       "<style scoped>\n",
       "    .dataframe tbody tr th:only-of-type {\n",
       "        vertical-align: middle;\n",
       "    }\n",
       "\n",
       "    .dataframe tbody tr th {\n",
       "        vertical-align: top;\n",
       "    }\n",
       "\n",
       "    .dataframe thead th {\n",
       "        text-align: right;\n",
       "    }\n",
       "</style>\n",
       "<table border=\"1\" class=\"dataframe\">\n",
       "  <thead>\n",
       "    <tr style=\"text-align: right;\">\n",
       "      <th></th>\n",
       "      <th>playlist_title</th>\n",
       "      <th>author_id</th>\n",
       "      <th>playlist_like</th>\n",
       "      <th>playlist_repost</th>\n",
       "      <th>playlist_year</th>\n",
       "      <th>track_title</th>\n",
       "      <th>total_plays</th>\n",
       "      <th>track_like</th>\n",
       "      <th>track_repost</th>\n",
       "      <th>track_year_release</th>\n",
       "      <th>author_name</th>\n",
       "      <th>followers</th>\n",
       "      <th>following</th>\n",
       "      <th>NumTracks</th>\n",
       "    </tr>\n",
       "  </thead>\n",
       "  <tbody>\n",
       "    <tr>\n",
       "      <th>0</th>\n",
       "      <td>ADDICTED TO THE UNDERGROUND</td>\n",
       "      <td>83</td>\n",
       "      <td>17700</td>\n",
       "      <td>2010</td>\n",
       "      <td>2018</td>\n",
       "      <td>POPULARITY</td>\n",
       "      <td>563398</td>\n",
       "      <td>8422</td>\n",
       "      <td>498</td>\n",
       "      <td>2018</td>\n",
       "      <td>DOM KENNEDY</td>\n",
       "      <td>111000</td>\n",
       "      <td>1</td>\n",
       "      <td>21</td>\n",
       "    </tr>\n",
       "    <tr>\n",
       "      <th>1</th>\n",
       "      <td>ADDICTED TO THE UNDERGROUND</td>\n",
       "      <td>83</td>\n",
       "      <td>17700</td>\n",
       "      <td>2010</td>\n",
       "      <td>2018</td>\n",
       "      <td>TRAVELING</td>\n",
       "      <td>339434</td>\n",
       "      <td>4285</td>\n",
       "      <td>271</td>\n",
       "      <td>2018</td>\n",
       "      <td>DOM KENNEDY</td>\n",
       "      <td>111000</td>\n",
       "      <td>1</td>\n",
       "      <td>21</td>\n",
       "    </tr>\n",
       "    <tr>\n",
       "      <th>2</th>\n",
       "      <td>Beach House Session #169 | Tropical &amp; Chill (F...</td>\n",
       "      <td>99</td>\n",
       "      <td>143000</td>\n",
       "      <td>10300</td>\n",
       "      <td>2016</td>\n",
       "      <td>Beach House Session Guest Mix Presents - Brown...</td>\n",
       "      <td>383368</td>\n",
       "      <td>4781</td>\n",
       "      <td>147</td>\n",
       "      <td>2019</td>\n",
       "      <td>Beach House Session</td>\n",
       "      <td>14800</td>\n",
       "      <td>700</td>\n",
       "      <td>2</td>\n",
       "    </tr>\n",
       "    <tr>\n",
       "      <th>3</th>\n",
       "      <td>Beach House Session #169 | Tropical &amp; Chill (F...</td>\n",
       "      <td>99</td>\n",
       "      <td>143000</td>\n",
       "      <td>10300</td>\n",
       "      <td>2016</td>\n",
       "      <td>Beach House Session Guest Mix Presents - Chris...</td>\n",
       "      <td>158093</td>\n",
       "      <td>2074</td>\n",
       "      <td>96</td>\n",
       "      <td>2019</td>\n",
       "      <td>Beach House Session</td>\n",
       "      <td>14800</td>\n",
       "      <td>700</td>\n",
       "      <td>2</td>\n",
       "    </tr>\n",
       "    <tr>\n",
       "      <th>4</th>\n",
       "      <td>BoxFest Hits</td>\n",
       "      <td>117</td>\n",
       "      <td>980</td>\n",
       "      <td>127</td>\n",
       "      <td>2022</td>\n",
       "      <td>Assembling a top-tier team: Naima Cochrane, Ta...</td>\n",
       "      <td>13139</td>\n",
       "      <td>217</td>\n",
       "      <td>36</td>\n",
       "      <td>2020</td>\n",
       "      <td>SoundCloud Verified</td>\n",
       "      <td>2280000</td>\n",
       "      <td>20</td>\n",
       "      <td>138</td>\n",
       "    </tr>\n",
       "  </tbody>\n",
       "</table>\n",
       "</div>"
      ],
      "text/plain": [
       "                                      playlist_title  author_id  \\\n",
       "0                        ADDICTED TO THE UNDERGROUND         83   \n",
       "1                        ADDICTED TO THE UNDERGROUND         83   \n",
       "2  Beach House Session #169 | Tropical & Chill (F...         99   \n",
       "3  Beach House Session #169 | Tropical & Chill (F...         99   \n",
       "4                                       BoxFest Hits        117   \n",
       "\n",
       "   playlist_like  playlist_repost  playlist_year  \\\n",
       "0          17700             2010           2018   \n",
       "1          17700             2010           2018   \n",
       "2         143000            10300           2016   \n",
       "3         143000            10300           2016   \n",
       "4            980              127           2022   \n",
       "\n",
       "                                         track_title  total_plays  track_like  \\\n",
       "0                                         POPULARITY       563398        8422   \n",
       "1                                          TRAVELING       339434        4285   \n",
       "2  Beach House Session Guest Mix Presents - Brown...       383368        4781   \n",
       "3  Beach House Session Guest Mix Presents - Chris...       158093        2074   \n",
       "4  Assembling a top-tier team: Naima Cochrane, Ta...        13139         217   \n",
       "\n",
       "   track_repost  track_year_release          author_name  followers  \\\n",
       "0           498                2018          DOM KENNEDY     111000   \n",
       "1           271                2018          DOM KENNEDY     111000   \n",
       "2           147                2019  Beach House Session      14800   \n",
       "3            96                2019  Beach House Session      14800   \n",
       "4            36                2020  SoundCloud Verified    2280000   \n",
       "\n",
       "   following  NumTracks  \n",
       "0          1         21  \n",
       "1          1         21  \n",
       "2        700          2  \n",
       "3        700          2  \n",
       "4         20        138  "
      ]
     },
     "execution_count": 43,
     "metadata": {},
     "output_type": "execute_result"
    }
   ],
   "source": [
    "new_data = new_data.drop(columns=['first_2_tracks_id'])\n",
    "new_data.head()"
   ]
  },
  {
   "cell_type": "markdown",
   "id": "c8ddd2fb",
   "metadata": {},
   "source": [
    "Get the pandas profiling report to see all the histogram, interation, correlation and missing value of the data"
   ]
  },
  {
   "cell_type": "code",
   "execution_count": 44,
   "id": "3042d036",
   "metadata": {},
   "outputs": [],
   "source": [
    "all_profile = ProfileReport(new_data, title=\"Data Profiling Report\")"
   ]
  },
  {
   "cell_type": "code",
   "execution_count": 45,
   "id": "92416649",
   "metadata": {},
   "outputs": [
    {
     "data": {
      "application/vnd.jupyter.widget-view+json": {
       "model_id": "bf7f180eaaff46fb82f5ea3d418de9c0",
       "version_major": 2,
       "version_minor": 0
      },
      "text/plain": [
       "Summarize dataset:   0%|          | 0/5 [00:00<?, ?it/s]"
      ]
     },
     "metadata": {},
     "output_type": "display_data"
    },
    {
     "name": "stderr",
     "output_type": "stream",
     "text": [
      "/home/van23/.local/lib/python3.8/site-packages/multimethod/__init__.py:315: FutureWarning: The default value of numeric_only in DataFrame.corr is deprecated. In a future version, it will default to False. Select only valid columns or specify the value of numeric_only to silence this warning.\n",
      "  return func(*args, **kwargs)\n"
     ]
    },
    {
     "data": {
      "text/html": [
       "<style type=\"text/css\">\n",
       "#T_fa057_row0_col0, #T_fa057_row1_col1, #T_fa057_row2_col2, #T_fa057_row3_col3, #T_fa057_row4_col4, #T_fa057_row5_col5, #T_fa057_row6_col6, #T_fa057_row7_col7, #T_fa057_row8_col8, #T_fa057_row9_col9, #T_fa057_row10_col10, #T_fa057_row11_col11, #T_fa057_row12_col12 {\n",
       "  background-color: #023858;\n",
       "  color: #f1f1f1;\n",
       "}\n",
       "#T_fa057_row0_col1 {\n",
       "  background-color: #2f8bbe;\n",
       "  color: #f1f1f1;\n",
       "}\n",
       "#T_fa057_row0_col2, #T_fa057_row9_col8 {\n",
       "  background-color: #529bc7;\n",
       "  color: #f1f1f1;\n",
       "}\n",
       "#T_fa057_row0_col3, #T_fa057_row0_col7, #T_fa057_row0_col8, #T_fa057_row0_col9, #T_fa057_row3_col0, #T_fa057_row3_col1, #T_fa057_row3_col2, #T_fa057_row3_col4, #T_fa057_row3_col5, #T_fa057_row4_col11, #T_fa057_row4_col12, #T_fa057_row9_col10, #T_fa057_row10_col6 {\n",
       "  background-color: #fff7fb;\n",
       "  color: #000000;\n",
       "}\n",
       "#T_fa057_row0_col4, #T_fa057_row7_col8 {\n",
       "  background-color: #1c7fb8;\n",
       "  color: #f1f1f1;\n",
       "}\n",
       "#T_fa057_row0_col5, #T_fa057_row6_col1 {\n",
       "  background-color: #569dc8;\n",
       "  color: #f1f1f1;\n",
       "}\n",
       "#T_fa057_row0_col6 {\n",
       "  background-color: #91b5d6;\n",
       "  color: #000000;\n",
       "}\n",
       "#T_fa057_row0_col10, #T_fa057_row4_col7 {\n",
       "  background-color: #d6d6e9;\n",
       "  color: #000000;\n",
       "}\n",
       "#T_fa057_row0_col11, #T_fa057_row1_col11, #T_fa057_row2_col11, #T_fa057_row3_col11, #T_fa057_row8_col11, #T_fa057_row9_col11 {\n",
       "  background-color: #034f7d;\n",
       "  color: #f1f1f1;\n",
       "}\n",
       "#T_fa057_row0_col12, #T_fa057_row1_col2 {\n",
       "  background-color: #034a74;\n",
       "  color: #f1f1f1;\n",
       "}\n",
       "#T_fa057_row1_col0 {\n",
       "  background-color: #157ab5;\n",
       "  color: #f1f1f1;\n",
       "}\n",
       "#T_fa057_row1_col3 {\n",
       "  background-color: #dfddec;\n",
       "  color: #000000;\n",
       "}\n",
       "#T_fa057_row1_col4 {\n",
       "  background-color: #0d75b3;\n",
       "  color: #f1f1f1;\n",
       "}\n",
       "#T_fa057_row1_col5 {\n",
       "  background-color: #328dbf;\n",
       "  color: #f1f1f1;\n",
       "}\n",
       "#T_fa057_row1_col6 {\n",
       "  background-color: #76aad0;\n",
       "  color: #f1f1f1;\n",
       "}\n",
       "#T_fa057_row1_col7, #T_fa057_row10_col2 {\n",
       "  background-color: #e0dded;\n",
       "  color: #000000;\n",
       "}\n",
       "#T_fa057_row1_col8 {\n",
       "  background-color: #d9d8ea;\n",
       "  color: #000000;\n",
       "}\n",
       "#T_fa057_row1_col9, #T_fa057_row9_col2 {\n",
       "  background-color: #e8e4f0;\n",
       "  color: #000000;\n",
       "}\n",
       "#T_fa057_row1_col10 {\n",
       "  background-color: #b9c6e0;\n",
       "  color: #000000;\n",
       "}\n",
       "#T_fa057_row1_col12, #T_fa057_row3_col8 {\n",
       "  background-color: #056dac;\n",
       "  color: #f1f1f1;\n",
       "}\n",
       "#T_fa057_row2_col0, #T_fa057_row5_col0, #T_fa057_row12_col6 {\n",
       "  background-color: #2182b9;\n",
       "  color: #f1f1f1;\n",
       "}\n",
       "#T_fa057_row2_col1, #T_fa057_row4_col5, #T_fa057_row11_col1, #T_fa057_row11_col9 {\n",
       "  background-color: #034973;\n",
       "  color: #f1f1f1;\n",
       "}\n",
       "#T_fa057_row2_col3 {\n",
       "  background-color: #d0d1e6;\n",
       "  color: #000000;\n",
       "}\n",
       "#T_fa057_row2_col4 {\n",
       "  background-color: #0c74b2;\n",
       "  color: #f1f1f1;\n",
       "}\n",
       "#T_fa057_row2_col5 {\n",
       "  background-color: #2987bc;\n",
       "  color: #f1f1f1;\n",
       "}\n",
       "#T_fa057_row2_col6 {\n",
       "  background-color: #3f93c2;\n",
       "  color: #f1f1f1;\n",
       "}\n",
       "#T_fa057_row2_col7, #T_fa057_row5_col9 {\n",
       "  background-color: #d4d4e8;\n",
       "  color: #000000;\n",
       "}\n",
       "#T_fa057_row2_col8 {\n",
       "  background-color: #bdc8e1;\n",
       "  color: #000000;\n",
       "}\n",
       "#T_fa057_row2_col9 {\n",
       "  background-color: #d2d3e7;\n",
       "  color: #000000;\n",
       "}\n",
       "#T_fa057_row2_col10, #T_fa057_row7_col6 {\n",
       "  background-color: #dddbec;\n",
       "  color: #000000;\n",
       "}\n",
       "#T_fa057_row2_col12 {\n",
       "  background-color: #0569a4;\n",
       "  color: #f1f1f1;\n",
       "}\n",
       "#T_fa057_row3_col6, #T_fa057_row10_col9 {\n",
       "  background-color: #f0eaf4;\n",
       "  color: #000000;\n",
       "}\n",
       "#T_fa057_row3_col7 {\n",
       "  background-color: #045d92;\n",
       "  color: #f1f1f1;\n",
       "}\n",
       "#T_fa057_row3_col9, #T_fa057_row7_col9 {\n",
       "  background-color: #308cbe;\n",
       "  color: #f1f1f1;\n",
       "}\n",
       "#T_fa057_row3_col10, #T_fa057_row9_col1, #T_fa057_row9_col5 {\n",
       "  background-color: #efe9f3;\n",
       "  color: #000000;\n",
       "}\n",
       "#T_fa057_row3_col12 {\n",
       "  background-color: #2685bb;\n",
       "  color: #f1f1f1;\n",
       "}\n",
       "#T_fa057_row4_col0 {\n",
       "  background-color: #0771b1;\n",
       "  color: #f1f1f1;\n",
       "}\n",
       "#T_fa057_row4_col1 {\n",
       "  background-color: #0f76b3;\n",
       "  color: #f1f1f1;\n",
       "}\n",
       "#T_fa057_row4_col2 {\n",
       "  background-color: #167bb6;\n",
       "  color: #f1f1f1;\n",
       "}\n",
       "#T_fa057_row4_col3 {\n",
       "  background-color: #e1dfed;\n",
       "  color: #000000;\n",
       "}\n",
       "#T_fa057_row4_col6 {\n",
       "  background-color: #05659f;\n",
       "  color: #f1f1f1;\n",
       "}\n",
       "#T_fa057_row4_col8 {\n",
       "  background-color: #ced0e6;\n",
       "  color: #000000;\n",
       "}\n",
       "#T_fa057_row4_col9 {\n",
       "  background-color: #eae6f1;\n",
       "  color: #000000;\n",
       "}\n",
       "#T_fa057_row4_col10 {\n",
       "  background-color: #d3d4e7;\n",
       "  color: #000000;\n",
       "}\n",
       "#T_fa057_row5_col1 {\n",
       "  background-color: #2383ba;\n",
       "  color: #f1f1f1;\n",
       "}\n",
       "#T_fa057_row5_col2 {\n",
       "  background-color: #2484ba;\n",
       "  color: #f1f1f1;\n",
       "}\n",
       "#T_fa057_row5_col3, #T_fa057_row8_col10 {\n",
       "  background-color: #c9cee4;\n",
       "  color: #000000;\n",
       "}\n",
       "#T_fa057_row5_col4, #T_fa057_row11_col8 {\n",
       "  background-color: #03476f;\n",
       "  color: #f1f1f1;\n",
       "}\n",
       "#T_fa057_row5_col6 {\n",
       "  background-color: #04588a;\n",
       "  color: #f1f1f1;\n",
       "}\n",
       "#T_fa057_row5_col7, #T_fa057_row5_col8 {\n",
       "  background-color: #b3c3de;\n",
       "  color: #000000;\n",
       "}\n",
       "#T_fa057_row5_col10, #T_fa057_row8_col2 {\n",
       "  background-color: #ece7f2;\n",
       "  color: #000000;\n",
       "}\n",
       "#T_fa057_row5_col11, #T_fa057_row6_col3, #T_fa057_row10_col1 {\n",
       "  background-color: #a9bfdc;\n",
       "  color: #000000;\n",
       "}\n",
       "#T_fa057_row5_col12 {\n",
       "  background-color: #cdd0e5;\n",
       "  color: #000000;\n",
       "}\n",
       "#T_fa057_row6_col0, #T_fa057_row7_col12 {\n",
       "  background-color: #4496c3;\n",
       "  color: #f1f1f1;\n",
       "}\n",
       "#T_fa057_row6_col2 {\n",
       "  background-color: #358fc0;\n",
       "  color: #f1f1f1;\n",
       "}\n",
       "#T_fa057_row6_col4 {\n",
       "  background-color: #046097;\n",
       "  color: #f1f1f1;\n",
       "}\n",
       "#T_fa057_row6_col5 {\n",
       "  background-color: #045788;\n",
       "  color: #f1f1f1;\n",
       "}\n",
       "#T_fa057_row6_col7, #T_fa057_row10_col0 {\n",
       "  background-color: #97b7d7;\n",
       "  color: #000000;\n",
       "}\n",
       "#T_fa057_row6_col8 {\n",
       "  background-color: #79abd0;\n",
       "  color: #f1f1f1;\n",
       "}\n",
       "#T_fa057_row6_col9 {\n",
       "  background-color: #b4c4df;\n",
       "  color: #000000;\n",
       "}\n",
       "#T_fa057_row6_col10 {\n",
       "  background-color: #f5eef6;\n",
       "  color: #000000;\n",
       "}\n",
       "#T_fa057_row6_col11 {\n",
       "  background-color: #549cc7;\n",
       "  color: #f1f1f1;\n",
       "}\n",
       "#T_fa057_row6_col12 {\n",
       "  background-color: #78abd0;\n",
       "  color: #f1f1f1;\n",
       "}\n",
       "#T_fa057_row7_col0 {\n",
       "  background-color: #fbf3f9;\n",
       "  color: #000000;\n",
       "}\n",
       "#T_fa057_row7_col1 {\n",
       "  background-color: #fbf4f9;\n",
       "  color: #000000;\n",
       "}\n",
       "#T_fa057_row7_col2 {\n",
       "  background-color: #fef6fb;\n",
       "  color: #000000;\n",
       "}\n",
       "#T_fa057_row7_col3 {\n",
       "  background-color: #045c90;\n",
       "  color: #f1f1f1;\n",
       "}\n",
       "#T_fa057_row7_col4, #T_fa057_row10_col5 {\n",
       "  background-color: #f1ebf5;\n",
       "  color: #000000;\n",
       "}\n",
       "#T_fa057_row7_col5, #T_fa057_row9_col4 {\n",
       "  background-color: #eee8f3;\n",
       "  color: #000000;\n",
       "}\n",
       "#T_fa057_row7_col10, #T_fa057_row8_col1 {\n",
       "  background-color: #f3edf5;\n",
       "  color: #000000;\n",
       "}\n",
       "#T_fa057_row7_col11 {\n",
       "  background-color: #2c89bd;\n",
       "  color: #f1f1f1;\n",
       "}\n",
       "#T_fa057_row8_col0 {\n",
       "  background-color: #f7f0f7;\n",
       "  color: #000000;\n",
       "}\n",
       "#T_fa057_row8_col3 {\n",
       "  background-color: #056ba7;\n",
       "  color: #f1f1f1;\n",
       "}\n",
       "#T_fa057_row8_col4 {\n",
       "  background-color: #e7e3f0;\n",
       "  color: #000000;\n",
       "}\n",
       "#T_fa057_row8_col5 {\n",
       "  background-color: #e9e5f1;\n",
       "  color: #000000;\n",
       "}\n",
       "#T_fa057_row8_col6 {\n",
       "  background-color: #bcc7e1;\n",
       "  color: #000000;\n",
       "}\n",
       "#T_fa057_row8_col7 {\n",
       "  background-color: #197db7;\n",
       "  color: #f1f1f1;\n",
       "}\n",
       "#T_fa057_row8_col9 {\n",
       "  background-color: #6ba5cd;\n",
       "  color: #f1f1f1;\n",
       "}\n",
       "#T_fa057_row8_col12, #T_fa057_row9_col12, #T_fa057_row10_col12, #T_fa057_row11_col2, #T_fa057_row11_col10 {\n",
       "  background-color: #034b76;\n",
       "  color: #f1f1f1;\n",
       "}\n",
       "#T_fa057_row9_col0 {\n",
       "  background-color: #e6e2ef;\n",
       "  color: #000000;\n",
       "}\n",
       "#T_fa057_row9_col3 {\n",
       "  background-color: #1b7eb7;\n",
       "  color: #f1f1f1;\n",
       "}\n",
       "#T_fa057_row9_col6 {\n",
       "  background-color: #dbdaeb;\n",
       "  color: #000000;\n",
       "}\n",
       "#T_fa057_row9_col7 {\n",
       "  background-color: #1e80b8;\n",
       "  color: #f1f1f1;\n",
       "}\n",
       "#T_fa057_row10_col3 {\n",
       "  background-color: #b7c5df;\n",
       "  color: #000000;\n",
       "}\n",
       "#T_fa057_row10_col4 {\n",
       "  background-color: #c0c9e2;\n",
       "  color: #000000;\n",
       "}\n",
       "#T_fa057_row10_col7 {\n",
       "  background-color: #c6cce3;\n",
       "  color: #000000;\n",
       "}\n",
       "#T_fa057_row10_col8 {\n",
       "  background-color: #96b6d7;\n",
       "  color: #000000;\n",
       "}\n",
       "#T_fa057_row10_col11 {\n",
       "  background-color: #03517e;\n",
       "  color: #f1f1f1;\n",
       "}\n",
       "#T_fa057_row11_col0, #T_fa057_row11_col3, #T_fa057_row11_col12 {\n",
       "  background-color: #03466e;\n",
       "  color: #f1f1f1;\n",
       "}\n",
       "#T_fa057_row11_col4 {\n",
       "  background-color: #c8cde4;\n",
       "  color: #000000;\n",
       "}\n",
       "#T_fa057_row11_col5 {\n",
       "  background-color: #7dacd1;\n",
       "  color: #f1f1f1;\n",
       "}\n",
       "#T_fa057_row11_col6 {\n",
       "  background-color: #348ebf;\n",
       "  color: #f1f1f1;\n",
       "}\n",
       "#T_fa057_row11_col7 {\n",
       "  background-color: #056aa6;\n",
       "  color: #f1f1f1;\n",
       "}\n",
       "#T_fa057_row12_col0 {\n",
       "  background-color: #023f64;\n",
       "  color: #f1f1f1;\n",
       "}\n",
       "#T_fa057_row12_col1 {\n",
       "  background-color: #045b8e;\n",
       "  color: #f1f1f1;\n",
       "}\n",
       "#T_fa057_row12_col2 {\n",
       "  background-color: #045a8d;\n",
       "  color: #f1f1f1;\n",
       "}\n",
       "#T_fa057_row12_col3 {\n",
       "  background-color: #045e94;\n",
       "  color: #f1f1f1;\n",
       "}\n",
       "#T_fa057_row12_col4 {\n",
       "  background-color: #84b0d3;\n",
       "  color: #f1f1f1;\n",
       "}\n",
       "#T_fa057_row12_col5 {\n",
       "  background-color: #5ea0ca;\n",
       "  color: #f1f1f1;\n",
       "}\n",
       "#T_fa057_row12_col7 {\n",
       "  background-color: #04649e;\n",
       "  color: #f1f1f1;\n",
       "}\n",
       "#T_fa057_row12_col8 {\n",
       "  background-color: #034165;\n",
       "  color: #f1f1f1;\n",
       "}\n",
       "#T_fa057_row12_col9, #T_fa057_row12_col11 {\n",
       "  background-color: #034267;\n",
       "  color: #f1f1f1;\n",
       "}\n",
       "#T_fa057_row12_col10 {\n",
       "  background-color: #03446a;\n",
       "  color: #f1f1f1;\n",
       "}\n",
       "</style>\n",
       "<table id=\"T_fa057\">\n",
       "  <thead>\n",
       "    <tr>\n",
       "      <th class=\"blank level0\" >&nbsp;</th>\n",
       "      <th id=\"T_fa057_level0_col0\" class=\"col_heading level0 col0\" >author_id</th>\n",
       "      <th id=\"T_fa057_level0_col1\" class=\"col_heading level0 col1\" >playlist_like</th>\n",
       "      <th id=\"T_fa057_level0_col2\" class=\"col_heading level0 col2\" >playlist_repost</th>\n",
       "      <th id=\"T_fa057_level0_col3\" class=\"col_heading level0 col3\" >playlist_year</th>\n",
       "      <th id=\"T_fa057_level0_col4\" class=\"col_heading level0 col4\" >total_plays</th>\n",
       "      <th id=\"T_fa057_level0_col5\" class=\"col_heading level0 col5\" >track_like</th>\n",
       "      <th id=\"T_fa057_level0_col6\" class=\"col_heading level0 col6\" >track_repost</th>\n",
       "      <th id=\"T_fa057_level0_col7\" class=\"col_heading level0 col7\" >track_year_release</th>\n",
       "      <th id=\"T_fa057_level0_col8\" class=\"col_heading level0 col8\" >followers</th>\n",
       "      <th id=\"T_fa057_level0_col9\" class=\"col_heading level0 col9\" >following</th>\n",
       "      <th id=\"T_fa057_level0_col10\" class=\"col_heading level0 col10\" >NumTracks</th>\n",
       "      <th id=\"T_fa057_level0_col11\" class=\"col_heading level0 col11\" >playlist_title</th>\n",
       "      <th id=\"T_fa057_level0_col12\" class=\"col_heading level0 col12\" >author_name</th>\n",
       "    </tr>\n",
       "  </thead>\n",
       "  <tbody>\n",
       "    <tr>\n",
       "      <th id=\"T_fa057_level0_row0\" class=\"row_heading level0 row0\" >author_id</th>\n",
       "      <td id=\"T_fa057_row0_col0\" class=\"data row0 col0\" >1.0</td>\n",
       "      <td id=\"T_fa057_row0_col1\" class=\"data row0 col1\" >0.5</td>\n",
       "      <td id=\"T_fa057_row0_col2\" class=\"data row0 col2\" >0.5</td>\n",
       "      <td id=\"T_fa057_row0_col3\" class=\"data row0 col3\" >-0.7</td>\n",
       "      <td id=\"T_fa057_row0_col4\" class=\"data row0 col4\" >0.6</td>\n",
       "      <td id=\"T_fa057_row0_col5\" class=\"data row0 col5\" >0.5</td>\n",
       "      <td id=\"T_fa057_row0_col6\" class=\"data row0 col6\" >0.3</td>\n",
       "      <td id=\"T_fa057_row0_col7\" class=\"data row0 col7\" >-0.6</td>\n",
       "      <td id=\"T_fa057_row0_col8\" class=\"data row0 col8\" >-0.6</td>\n",
       "      <td id=\"T_fa057_row0_col9\" class=\"data row0 col9\" >-0.4</td>\n",
       "      <td id=\"T_fa057_row0_col10\" class=\"data row0 col10\" >0.0</td>\n",
       "      <td id=\"T_fa057_row0_col11\" class=\"data row0 col11\" >0.9</td>\n",
       "      <td id=\"T_fa057_row0_col12\" class=\"data row0 col12\" >1.0</td>\n",
       "    </tr>\n",
       "    <tr>\n",
       "      <th id=\"T_fa057_level0_row1\" class=\"row_heading level0 row1\" >playlist_like</th>\n",
       "      <td id=\"T_fa057_row1_col0\" class=\"data row1 col0\" >0.5</td>\n",
       "      <td id=\"T_fa057_row1_col1\" class=\"data row1 col1\" >1.0</td>\n",
       "      <td id=\"T_fa057_row1_col2\" class=\"data row1 col2\" >0.9</td>\n",
       "      <td id=\"T_fa057_row1_col3\" class=\"data row1 col3\" >-0.4</td>\n",
       "      <td id=\"T_fa057_row1_col4\" class=\"data row1 col4\" >0.6</td>\n",
       "      <td id=\"T_fa057_row1_col5\" class=\"data row1 col5\" >0.6</td>\n",
       "      <td id=\"T_fa057_row1_col6\" class=\"data row1 col6\" >0.4</td>\n",
       "      <td id=\"T_fa057_row1_col7\" class=\"data row1 col7\" >-0.3</td>\n",
       "      <td id=\"T_fa057_row1_col8\" class=\"data row1 col8\" >-0.2</td>\n",
       "      <td id=\"T_fa057_row1_col9\" class=\"data row1 col9\" >-0.2</td>\n",
       "      <td id=\"T_fa057_row1_col10\" class=\"data row1 col10\" >0.1</td>\n",
       "      <td id=\"T_fa057_row1_col11\" class=\"data row1 col11\" >0.9</td>\n",
       "      <td id=\"T_fa057_row1_col12\" class=\"data row1 col12\" >0.8</td>\n",
       "    </tr>\n",
       "    <tr>\n",
       "      <th id=\"T_fa057_level0_row2\" class=\"row_heading level0 row2\" >playlist_repost</th>\n",
       "      <td id=\"T_fa057_row2_col0\" class=\"data row2 col0\" >0.5</td>\n",
       "      <td id=\"T_fa057_row2_col1\" class=\"data row2 col1\" >0.9</td>\n",
       "      <td id=\"T_fa057_row2_col2\" class=\"data row2 col2\" >1.0</td>\n",
       "      <td id=\"T_fa057_row2_col3\" class=\"data row2 col3\" >-0.2</td>\n",
       "      <td id=\"T_fa057_row2_col4\" class=\"data row2 col4\" >0.6</td>\n",
       "      <td id=\"T_fa057_row2_col5\" class=\"data row2 col5\" >0.6</td>\n",
       "      <td id=\"T_fa057_row2_col6\" class=\"data row2 col6\" >0.5</td>\n",
       "      <td id=\"T_fa057_row2_col7\" class=\"data row2 col7\" >-0.2</td>\n",
       "      <td id=\"T_fa057_row2_col8\" class=\"data row2 col8\" >-0.1</td>\n",
       "      <td id=\"T_fa057_row2_col9\" class=\"data row2 col9\" >-0.1</td>\n",
       "      <td id=\"T_fa057_row2_col10\" class=\"data row2 col10\" >-0.0</td>\n",
       "      <td id=\"T_fa057_row2_col11\" class=\"data row2 col11\" >0.9</td>\n",
       "      <td id=\"T_fa057_row2_col12\" class=\"data row2 col12\" >0.8</td>\n",
       "    </tr>\n",
       "    <tr>\n",
       "      <th id=\"T_fa057_level0_row3\" class=\"row_heading level0 row3\" >playlist_year</th>\n",
       "      <td id=\"T_fa057_row3_col0\" class=\"data row3 col0\" >-0.7</td>\n",
       "      <td id=\"T_fa057_row3_col1\" class=\"data row3 col1\" >-0.4</td>\n",
       "      <td id=\"T_fa057_row3_col2\" class=\"data row3 col2\" >-0.2</td>\n",
       "      <td id=\"T_fa057_row3_col3\" class=\"data row3 col3\" >1.0</td>\n",
       "      <td id=\"T_fa057_row3_col4\" class=\"data row3 col4\" >-0.4</td>\n",
       "      <td id=\"T_fa057_row3_col5\" class=\"data row3 col5\" >-0.2</td>\n",
       "      <td id=\"T_fa057_row3_col6\" class=\"data row3 col6\" >-0.1</td>\n",
       "      <td id=\"T_fa057_row3_col7\" class=\"data row3 col7\" >0.8</td>\n",
       "      <td id=\"T_fa057_row3_col8\" class=\"data row3 col8\" >0.6</td>\n",
       "      <td id=\"T_fa057_row3_col9\" class=\"data row3 col9\" >0.5</td>\n",
       "      <td id=\"T_fa057_row3_col10\" class=\"data row3 col10\" >-0.1</td>\n",
       "      <td id=\"T_fa057_row3_col11\" class=\"data row3 col11\" >0.9</td>\n",
       "      <td id=\"T_fa057_row3_col12\" class=\"data row3 col12\" >0.8</td>\n",
       "    </tr>\n",
       "    <tr>\n",
       "      <th id=\"T_fa057_level0_row4\" class=\"row_heading level0 row4\" >total_plays</th>\n",
       "      <td id=\"T_fa057_row4_col0\" class=\"data row4 col0\" >0.6</td>\n",
       "      <td id=\"T_fa057_row4_col1\" class=\"data row4 col1\" >0.6</td>\n",
       "      <td id=\"T_fa057_row4_col2\" class=\"data row4 col2\" >0.6</td>\n",
       "      <td id=\"T_fa057_row4_col3\" class=\"data row4 col3\" >-0.4</td>\n",
       "      <td id=\"T_fa057_row4_col4\" class=\"data row4 col4\" >1.0</td>\n",
       "      <td id=\"T_fa057_row4_col5\" class=\"data row4 col5\" >0.9</td>\n",
       "      <td id=\"T_fa057_row4_col6\" class=\"data row4 col6\" >0.8</td>\n",
       "      <td id=\"T_fa057_row4_col7\" class=\"data row4 col7\" >-0.3</td>\n",
       "      <td id=\"T_fa057_row4_col8\" class=\"data row4 col8\" >-0.2</td>\n",
       "      <td id=\"T_fa057_row4_col9\" class=\"data row4 col9\" >-0.2</td>\n",
       "      <td id=\"T_fa057_row4_col10\" class=\"data row4 col10\" >0.0</td>\n",
       "      <td id=\"T_fa057_row4_col11\" class=\"data row4 col11\" >0.0</td>\n",
       "      <td id=\"T_fa057_row4_col12\" class=\"data row4 col12\" >0.3</td>\n",
       "    </tr>\n",
       "    <tr>\n",
       "      <th id=\"T_fa057_level0_row5\" class=\"row_heading level0 row5\" >track_like</th>\n",
       "      <td id=\"T_fa057_row5_col0\" class=\"data row5 col0\" >0.5</td>\n",
       "      <td id=\"T_fa057_row5_col1\" class=\"data row5 col1\" >0.6</td>\n",
       "      <td id=\"T_fa057_row5_col2\" class=\"data row5 col2\" >0.6</td>\n",
       "      <td id=\"T_fa057_row5_col3\" class=\"data row5 col3\" >-0.2</td>\n",
       "      <td id=\"T_fa057_row5_col4\" class=\"data row5 col4\" >0.9</td>\n",
       "      <td id=\"T_fa057_row5_col5\" class=\"data row5 col5\" >1.0</td>\n",
       "      <td id=\"T_fa057_row5_col6\" class=\"data row5 col6\" >0.9</td>\n",
       "      <td id=\"T_fa057_row5_col7\" class=\"data row5 col7\" >-0.1</td>\n",
       "      <td id=\"T_fa057_row5_col8\" class=\"data row5 col8\" >-0.0</td>\n",
       "      <td id=\"T_fa057_row5_col9\" class=\"data row5 col9\" >-0.1</td>\n",
       "      <td id=\"T_fa057_row5_col10\" class=\"data row5 col10\" >-0.1</td>\n",
       "      <td id=\"T_fa057_row5_col11\" class=\"data row5 col11\" >0.4</td>\n",
       "      <td id=\"T_fa057_row5_col12\" class=\"data row5 col12\" >0.4</td>\n",
       "    </tr>\n",
       "    <tr>\n",
       "      <th id=\"T_fa057_level0_row6\" class=\"row_heading level0 row6\" >track_repost</th>\n",
       "      <td id=\"T_fa057_row6_col0\" class=\"data row6 col0\" >0.3</td>\n",
       "      <td id=\"T_fa057_row6_col1\" class=\"data row6 col1\" >0.4</td>\n",
       "      <td id=\"T_fa057_row6_col2\" class=\"data row6 col2\" >0.5</td>\n",
       "      <td id=\"T_fa057_row6_col3\" class=\"data row6 col3\" >-0.1</td>\n",
       "      <td id=\"T_fa057_row6_col4\" class=\"data row6 col4\" >0.8</td>\n",
       "      <td id=\"T_fa057_row6_col5\" class=\"data row6 col5\" >0.9</td>\n",
       "      <td id=\"T_fa057_row6_col6\" class=\"data row6 col6\" >1.0</td>\n",
       "      <td id=\"T_fa057_row6_col7\" class=\"data row6 col7\" >0.1</td>\n",
       "      <td id=\"T_fa057_row6_col8\" class=\"data row6 col8\" >0.2</td>\n",
       "      <td id=\"T_fa057_row6_col9\" class=\"data row6 col9\" >0.1</td>\n",
       "      <td id=\"T_fa057_row6_col10\" class=\"data row6 col10\" >-0.2</td>\n",
       "      <td id=\"T_fa057_row6_col11\" class=\"data row6 col11\" >0.6</td>\n",
       "      <td id=\"T_fa057_row6_col12\" class=\"data row6 col12\" >0.6</td>\n",
       "    </tr>\n",
       "    <tr>\n",
       "      <th id=\"T_fa057_level0_row7\" class=\"row_heading level0 row7\" >track_year_release</th>\n",
       "      <td id=\"T_fa057_row7_col0\" class=\"data row7 col0\" >-0.6</td>\n",
       "      <td id=\"T_fa057_row7_col1\" class=\"data row7 col1\" >-0.3</td>\n",
       "      <td id=\"T_fa057_row7_col2\" class=\"data row7 col2\" >-0.2</td>\n",
       "      <td id=\"T_fa057_row7_col3\" class=\"data row7 col3\" >0.8</td>\n",
       "      <td id=\"T_fa057_row7_col4\" class=\"data row7 col4\" >-0.3</td>\n",
       "      <td id=\"T_fa057_row7_col5\" class=\"data row7 col5\" >-0.1</td>\n",
       "      <td id=\"T_fa057_row7_col6\" class=\"data row7 col6\" >0.1</td>\n",
       "      <td id=\"T_fa057_row7_col7\" class=\"data row7 col7\" >1.0</td>\n",
       "      <td id=\"T_fa057_row7_col8\" class=\"data row7 col8\" >0.5</td>\n",
       "      <td id=\"T_fa057_row7_col9\" class=\"data row7 col9\" >0.5</td>\n",
       "      <td id=\"T_fa057_row7_col10\" class=\"data row7 col10\" >-0.2</td>\n",
       "      <td id=\"T_fa057_row7_col11\" class=\"data row7 col11\" >0.6</td>\n",
       "      <td id=\"T_fa057_row7_col12\" class=\"data row7 col12\" >0.7</td>\n",
       "    </tr>\n",
       "    <tr>\n",
       "      <th id=\"T_fa057_level0_row8\" class=\"row_heading level0 row8\" >followers</th>\n",
       "      <td id=\"T_fa057_row8_col0\" class=\"data row8 col0\" >-0.6</td>\n",
       "      <td id=\"T_fa057_row8_col1\" class=\"data row8 col1\" >-0.2</td>\n",
       "      <td id=\"T_fa057_row8_col2\" class=\"data row8 col2\" >-0.1</td>\n",
       "      <td id=\"T_fa057_row8_col3\" class=\"data row8 col3\" >0.6</td>\n",
       "      <td id=\"T_fa057_row8_col4\" class=\"data row8 col4\" >-0.2</td>\n",
       "      <td id=\"T_fa057_row8_col5\" class=\"data row8 col5\" >-0.0</td>\n",
       "      <td id=\"T_fa057_row8_col6\" class=\"data row8 col6\" >0.2</td>\n",
       "      <td id=\"T_fa057_row8_col7\" class=\"data row8 col7\" >0.5</td>\n",
       "      <td id=\"T_fa057_row8_col8\" class=\"data row8 col8\" >1.0</td>\n",
       "      <td id=\"T_fa057_row8_col9\" class=\"data row8 col9\" >0.3</td>\n",
       "      <td id=\"T_fa057_row8_col10\" class=\"data row8 col10\" >0.1</td>\n",
       "      <td id=\"T_fa057_row8_col11\" class=\"data row8 col11\" >0.9</td>\n",
       "      <td id=\"T_fa057_row8_col12\" class=\"data row8 col12\" >0.9</td>\n",
       "    </tr>\n",
       "    <tr>\n",
       "      <th id=\"T_fa057_level0_row9\" class=\"row_heading level0 row9\" >following</th>\n",
       "      <td id=\"T_fa057_row9_col0\" class=\"data row9 col0\" >-0.4</td>\n",
       "      <td id=\"T_fa057_row9_col1\" class=\"data row9 col1\" >-0.2</td>\n",
       "      <td id=\"T_fa057_row9_col2\" class=\"data row9 col2\" >-0.1</td>\n",
       "      <td id=\"T_fa057_row9_col3\" class=\"data row9 col3\" >0.5</td>\n",
       "      <td id=\"T_fa057_row9_col4\" class=\"data row9 col4\" >-0.2</td>\n",
       "      <td id=\"T_fa057_row9_col5\" class=\"data row9 col5\" >-0.1</td>\n",
       "      <td id=\"T_fa057_row9_col6\" class=\"data row9 col6\" >0.1</td>\n",
       "      <td id=\"T_fa057_row9_col7\" class=\"data row9 col7\" >0.5</td>\n",
       "      <td id=\"T_fa057_row9_col8\" class=\"data row9 col8\" >0.3</td>\n",
       "      <td id=\"T_fa057_row9_col9\" class=\"data row9 col9\" >1.0</td>\n",
       "      <td id=\"T_fa057_row9_col10\" class=\"data row9 col10\" >-0.3</td>\n",
       "      <td id=\"T_fa057_row9_col11\" class=\"data row9 col11\" >0.9</td>\n",
       "      <td id=\"T_fa057_row9_col12\" class=\"data row9 col12\" >0.9</td>\n",
       "    </tr>\n",
       "    <tr>\n",
       "      <th id=\"T_fa057_level0_row10\" class=\"row_heading level0 row10\" >NumTracks</th>\n",
       "      <td id=\"T_fa057_row10_col0\" class=\"data row10 col0\" >0.0</td>\n",
       "      <td id=\"T_fa057_row10_col1\" class=\"data row10 col1\" >0.1</td>\n",
       "      <td id=\"T_fa057_row10_col2\" class=\"data row10 col2\" >-0.0</td>\n",
       "      <td id=\"T_fa057_row10_col3\" class=\"data row10 col3\" >-0.1</td>\n",
       "      <td id=\"T_fa057_row10_col4\" class=\"data row10 col4\" >0.0</td>\n",
       "      <td id=\"T_fa057_row10_col5\" class=\"data row10 col5\" >-0.1</td>\n",
       "      <td id=\"T_fa057_row10_col6\" class=\"data row10 col6\" >-0.2</td>\n",
       "      <td id=\"T_fa057_row10_col7\" class=\"data row10 col7\" >-0.2</td>\n",
       "      <td id=\"T_fa057_row10_col8\" class=\"data row10 col8\" >0.1</td>\n",
       "      <td id=\"T_fa057_row10_col9\" class=\"data row10 col9\" >-0.3</td>\n",
       "      <td id=\"T_fa057_row10_col10\" class=\"data row10 col10\" >1.0</td>\n",
       "      <td id=\"T_fa057_row10_col11\" class=\"data row10 col11\" >0.9</td>\n",
       "      <td id=\"T_fa057_row10_col12\" class=\"data row10 col12\" >0.9</td>\n",
       "    </tr>\n",
       "    <tr>\n",
       "      <th id=\"T_fa057_level0_row11\" class=\"row_heading level0 row11\" >playlist_title</th>\n",
       "      <td id=\"T_fa057_row11_col0\" class=\"data row11 col0\" >0.9</td>\n",
       "      <td id=\"T_fa057_row11_col1\" class=\"data row11 col1\" >0.9</td>\n",
       "      <td id=\"T_fa057_row11_col2\" class=\"data row11 col2\" >0.9</td>\n",
       "      <td id=\"T_fa057_row11_col3\" class=\"data row11 col3\" >0.9</td>\n",
       "      <td id=\"T_fa057_row11_col4\" class=\"data row11 col4\" >0.0</td>\n",
       "      <td id=\"T_fa057_row11_col5\" class=\"data row11 col5\" >0.4</td>\n",
       "      <td id=\"T_fa057_row11_col6\" class=\"data row11 col6\" >0.6</td>\n",
       "      <td id=\"T_fa057_row11_col7\" class=\"data row11 col7\" >0.6</td>\n",
       "      <td id=\"T_fa057_row11_col8\" class=\"data row11 col8\" >0.9</td>\n",
       "      <td id=\"T_fa057_row11_col9\" class=\"data row11 col9\" >0.9</td>\n",
       "      <td id=\"T_fa057_row11_col10\" class=\"data row11 col10\" >0.9</td>\n",
       "      <td id=\"T_fa057_row11_col11\" class=\"data row11 col11\" >1.0</td>\n",
       "      <td id=\"T_fa057_row11_col12\" class=\"data row11 col12\" >1.0</td>\n",
       "    </tr>\n",
       "    <tr>\n",
       "      <th id=\"T_fa057_level0_row12\" class=\"row_heading level0 row12\" >author_name</th>\n",
       "      <td id=\"T_fa057_row12_col0\" class=\"data row12 col0\" >1.0</td>\n",
       "      <td id=\"T_fa057_row12_col1\" class=\"data row12 col1\" >0.8</td>\n",
       "      <td id=\"T_fa057_row12_col2\" class=\"data row12 col2\" >0.8</td>\n",
       "      <td id=\"T_fa057_row12_col3\" class=\"data row12 col3\" >0.8</td>\n",
       "      <td id=\"T_fa057_row12_col4\" class=\"data row12 col4\" >0.3</td>\n",
       "      <td id=\"T_fa057_row12_col5\" class=\"data row12 col5\" >0.4</td>\n",
       "      <td id=\"T_fa057_row12_col6\" class=\"data row12 col6\" >0.6</td>\n",
       "      <td id=\"T_fa057_row12_col7\" class=\"data row12 col7\" >0.7</td>\n",
       "      <td id=\"T_fa057_row12_col8\" class=\"data row12 col8\" >0.9</td>\n",
       "      <td id=\"T_fa057_row12_col9\" class=\"data row12 col9\" >0.9</td>\n",
       "      <td id=\"T_fa057_row12_col10\" class=\"data row12 col10\" >0.9</td>\n",
       "      <td id=\"T_fa057_row12_col11\" class=\"data row12 col11\" >1.0</td>\n",
       "      <td id=\"T_fa057_row12_col12\" class=\"data row12 col12\" >1.0</td>\n",
       "    </tr>\n",
       "  </tbody>\n",
       "</table>\n"
      ],
      "text/plain": [
       "<pandas.io.formats.style.Styler at 0x7f3675ba1d90>"
      ]
     },
     "execution_count": 45,
     "metadata": {},
     "output_type": "execute_result"
    }
   ],
   "source": [
    "correlations = all_profile.description_set[\"correlations\"]\n",
    "correlations['auto'].style.background_gradient().format(precision=1)"
   ]
  },
  {
   "cell_type": "markdown",
   "id": "e304d029",
   "metadata": {},
   "source": [
    "**From the correlation matrix**\n",
    "\n",
    "Playlist likes and reposts have a high correlation with each others, and also have a high correlation with total plays, playlist tracks likes and reports. The play times, likes, repost of a track is also correlated with each others. So, we can consider that the playlist that contain the tracks with many streams, likes and repost also have high likes and reposts.\n",
    "\n",
    "The followers of an author is not correlated with any number (likes, reposts, played). So, the follower of an author is not affected by their uploaded tracks.\n",
    "\n",
    "The track year release has a high correlation with the playlist year release. So, we can consider that most of the playlist is created by the time that the tracks have been released.\n",
    "\n",
    "The number of tracks uploaded does not correlated with the number of followers. Therefore, uploading more tracks does not help to increase your followers."
   ]
  },
  {
   "attachments": {},
   "cell_type": "markdown",
   "id": "bdb7ab54",
   "metadata": {},
   "source": [
    "### First Expedition:\n",
    "From the above cleaned data, finally we get a perfect dataset, in which we could define several principal information of SoundCloud Environment\n",
    "\n",
    "We must detect which song is the most popular, which is the second favorite, which is the third most favorite,...? A song is considered popular by the column \"likes\" and \"reposts\". By answering this question will partly help us orient which song is liked and reposted by the most people."
   ]
  },
  {
   "attachments": {},
   "cell_type": "markdown",
   "id": "c733e5a9",
   "metadata": {},
   "source": [
    "\n",
    "First, we will group all the tracks that have the same name to calculate the total value of each track"
   ]
  },
  {
   "cell_type": "code",
   "execution_count": 46,
   "id": "79191824",
   "metadata": {},
   "outputs": [],
   "source": [
    "aggregation_functions = {'author_id': 'first', 'total_plays': 'sum', 'likes': 'sum', 'reposts': 'sum', 'year_release': 'first'}\n",
    "tracks_df_sum = tracks_df.groupby(tracks_df['title']).aggregate(aggregation_functions)"
   ]
  },
  {
   "cell_type": "markdown",
   "id": "2397fbf3",
   "metadata": {},
   "source": [
    "Here is the top 5 tracks by number of plays, likes and reposts"
   ]
  },
  {
   "cell_type": "code",
   "execution_count": 47,
   "id": "e4c21b5b",
   "metadata": {
    "scrolled": true
   },
   "outputs": [
    {
     "data": {
      "text/html": [
       "<div>\n",
       "<style scoped>\n",
       "    .dataframe tbody tr th:only-of-type {\n",
       "        vertical-align: middle;\n",
       "    }\n",
       "\n",
       "    .dataframe tbody tr th {\n",
       "        vertical-align: top;\n",
       "    }\n",
       "\n",
       "    .dataframe thead th {\n",
       "        text-align: right;\n",
       "    }\n",
       "</style>\n",
       "<table border=\"1\" class=\"dataframe\">\n",
       "  <thead>\n",
       "    <tr style=\"text-align: right;\">\n",
       "      <th></th>\n",
       "      <th>author_id</th>\n",
       "      <th>total_plays</th>\n",
       "      <th>likes</th>\n",
       "      <th>reposts</th>\n",
       "      <th>year_release</th>\n",
       "    </tr>\n",
       "    <tr>\n",
       "      <th>title</th>\n",
       "      <th></th>\n",
       "      <th></th>\n",
       "      <th></th>\n",
       "      <th></th>\n",
       "      <th></th>\n",
       "    </tr>\n",
       "  </thead>\n",
       "  <tbody>\n",
       "    <tr>\n",
       "      <th>Lucid Dreams</th>\n",
       "      <td>755</td>\n",
       "      <td>977741268</td>\n",
       "      <td>10985988</td>\n",
       "      <td>388303</td>\n",
       "      <td>2018</td>\n",
       "    </tr>\n",
       "    <tr>\n",
       "      <th>XXXTENTACION - Fuck Love (feat. Trippie Redd)</th>\n",
       "      <td>1169</td>\n",
       "      <td>901944396</td>\n",
       "      <td>9493318</td>\n",
       "      <td>375529</td>\n",
       "      <td>2017</td>\n",
       "    </tr>\n",
       "    <tr>\n",
       "      <th>I don't wanna do this anymore</th>\n",
       "      <td>1169</td>\n",
       "      <td>559188016</td>\n",
       "      <td>6047537</td>\n",
       "      <td>346044</td>\n",
       "      <td>2016</td>\n",
       "    </tr>\n",
       "    <tr>\n",
       "      <th>1.5- XO TOUR Llif3 (Produced By TM88)</th>\n",
       "      <td>42</td>\n",
       "      <td>508994522</td>\n",
       "      <td>5217431</td>\n",
       "      <td>315497</td>\n",
       "      <td>2017</td>\n",
       "    </tr>\n",
       "    <tr>\n",
       "      <th>Lil Baby, Gunna - Drip Too Hard</th>\n",
       "      <td>178</td>\n",
       "      <td>413577396</td>\n",
       "      <td>4241149</td>\n",
       "      <td>109244</td>\n",
       "      <td>2018</td>\n",
       "    </tr>\n",
       "  </tbody>\n",
       "</table>\n",
       "</div>"
      ],
      "text/plain": [
       "                                               author_id  total_plays  \\\n",
       "title                                                                   \n",
       "Lucid Dreams                                         755    977741268   \n",
       "XXXTENTACION - Fuck Love (feat. Trippie Redd)       1169    901944396   \n",
       "I don't wanna do this anymore                       1169    559188016   \n",
       "1.5- XO TOUR Llif3 (Produced By TM88)                 42    508994522   \n",
       "Lil Baby, Gunna - Drip Too Hard                      178    413577396   \n",
       "\n",
       "                                                  likes  reposts  year_release  \n",
       "title                                                                           \n",
       "Lucid Dreams                                   10985988   388303          2018  \n",
       "XXXTENTACION - Fuck Love (feat. Trippie Redd)   9493318   375529          2017  \n",
       "I don't wanna do this anymore                   6047537   346044          2016  \n",
       "1.5- XO TOUR Llif3 (Produced By TM88)           5217431   315497          2017  \n",
       "Lil Baby, Gunna - Drip Too Hard                 4241149   109244          2018  "
      ]
     },
     "execution_count": 47,
     "metadata": {},
     "output_type": "execute_result"
    }
   ],
   "source": [
    "tracks_df_sum.nlargest(n = 5, columns=['total_plays', 'likes' , 'reposts'])"
   ]
  },
  {
   "attachments": {},
   "cell_type": "markdown",
   "id": "75e39365",
   "metadata": {},
   "source": [
    "### Expedition 2:\n",
    "Furthermore, the dataset also include the question of which is the author that have the most played, is that author have the most followers?"
   ]
  },
  {
   "attachments": {},
   "cell_type": "markdown",
   "id": "107be2b3",
   "metadata": {},
   "source": [
    "\n",
    "We merge 2 dataframe to get the name of authors"
   ]
  },
  {
   "cell_type": "code",
   "execution_count": 48,
   "id": "a6399196",
   "metadata": {},
   "outputs": [],
   "source": [
    "aggregation_functions = {'total_plays': 'sum', 'likes': 'sum', 'reposts': 'sum'}\n",
    "author_sum = tracks_df_sum.groupby(tracks_df_sum['author_id']).aggregate(aggregation_functions)\n",
    "new_author_sum = author_sum.merge(users_df, how='inner', on='author_id')"
   ]
  },
  {
   "cell_type": "markdown",
   "id": "8a30708b",
   "metadata": {},
   "source": [
    "Top 5 authors that have largest plays, likes and reposts"
   ]
  },
  {
   "cell_type": "code",
   "execution_count": 49,
   "id": "4bb323dc",
   "metadata": {},
   "outputs": [
    {
     "data": {
      "text/html": [
       "<div>\n",
       "<style scoped>\n",
       "    .dataframe tbody tr th:only-of-type {\n",
       "        vertical-align: middle;\n",
       "    }\n",
       "\n",
       "    .dataframe tbody tr th {\n",
       "        vertical-align: top;\n",
       "    }\n",
       "\n",
       "    .dataframe thead th {\n",
       "        text-align: right;\n",
       "    }\n",
       "</style>\n",
       "<table border=\"1\" class=\"dataframe\">\n",
       "  <thead>\n",
       "    <tr style=\"text-align: right;\">\n",
       "      <th></th>\n",
       "      <th>total_plays</th>\n",
       "      <th>likes</th>\n",
       "      <th>reposts</th>\n",
       "      <th>name</th>\n",
       "      <th>followers</th>\n",
       "      <th>following</th>\n",
       "      <th>NumTracks</th>\n",
       "    </tr>\n",
       "    <tr>\n",
       "      <th>author_id</th>\n",
       "      <th></th>\n",
       "      <th></th>\n",
       "      <th></th>\n",
       "      <th></th>\n",
       "      <th></th>\n",
       "      <th></th>\n",
       "      <th></th>\n",
       "    </tr>\n",
       "  </thead>\n",
       "  <tbody>\n",
       "    <tr>\n",
       "      <th>1169</th>\n",
       "      <td>2303348423</td>\n",
       "      <td>26373590</td>\n",
       "      <td>1166130</td>\n",
       "      <td>XXXTENTACION Verified</td>\n",
       "      <td>5120000</td>\n",
       "      <td>0</td>\n",
       "      <td>182</td>\n",
       "    </tr>\n",
       "    <tr>\n",
       "      <th>755</th>\n",
       "      <td>1483450118</td>\n",
       "      <td>16473303</td>\n",
       "      <td>556054</td>\n",
       "      <td>Juice WRLD Verified</td>\n",
       "      <td>2950000</td>\n",
       "      <td>72</td>\n",
       "      <td>146</td>\n",
       "    </tr>\n",
       "    <tr>\n",
       "      <th>42</th>\n",
       "      <td>846724437</td>\n",
       "      <td>9077258</td>\n",
       "      <td>531416</td>\n",
       "      <td>Lil Uzi Vert Verified</td>\n",
       "      <td>2900000</td>\n",
       "      <td>0</td>\n",
       "      <td>226</td>\n",
       "    </tr>\n",
       "    <tr>\n",
       "      <th>839</th>\n",
       "      <td>682870794</td>\n",
       "      <td>3947068</td>\n",
       "      <td>305932</td>\n",
       "      <td>BTS Verified</td>\n",
       "      <td>4370000</td>\n",
       "      <td>2</td>\n",
       "      <td>140</td>\n",
       "    </tr>\n",
       "    <tr>\n",
       "      <th>427</th>\n",
       "      <td>618912337</td>\n",
       "      <td>6942549</td>\n",
       "      <td>252138</td>\n",
       "      <td>6IX9INE Verified</td>\n",
       "      <td>955000</td>\n",
       "      <td>1</td>\n",
       "      <td>84</td>\n",
       "    </tr>\n",
       "  </tbody>\n",
       "</table>\n",
       "</div>"
      ],
      "text/plain": [
       "           total_plays     likes  reposts                   name  followers  \\\n",
       "author_id                                                                     \n",
       "1169        2303348423  26373590  1166130  XXXTENTACION Verified    5120000   \n",
       "755         1483450118  16473303   556054    Juice WRLD Verified    2950000   \n",
       "42           846724437   9077258   531416  Lil Uzi Vert Verified    2900000   \n",
       "839          682870794   3947068   305932           BTS Verified    4370000   \n",
       "427          618912337   6942549   252138       6IX9INE Verified     955000   \n",
       "\n",
       "           following  NumTracks  \n",
       "author_id                        \n",
       "1169               0        182  \n",
       "755               72        146  \n",
       "42                 0        226  \n",
       "839                2        140  \n",
       "427                1         84  "
      ]
     },
     "execution_count": 49,
     "metadata": {},
     "output_type": "execute_result"
    }
   ],
   "source": [
    "new_author_sum.nlargest(n = 5, columns=['total_plays', 'likes', 'reposts'])"
   ]
  },
  {
   "cell_type": "markdown",
   "id": "ba778110",
   "metadata": {},
   "source": [
    "Top 5 authors that have largest followers"
   ]
  },
  {
   "cell_type": "code",
   "execution_count": 50,
   "id": "9cbb3725",
   "metadata": {
    "scrolled": true
   },
   "outputs": [
    {
     "data": {
      "text/html": [
       "<div>\n",
       "<style scoped>\n",
       "    .dataframe tbody tr th:only-of-type {\n",
       "        vertical-align: middle;\n",
       "    }\n",
       "\n",
       "    .dataframe tbody tr th {\n",
       "        vertical-align: top;\n",
       "    }\n",
       "\n",
       "    .dataframe thead th {\n",
       "        text-align: right;\n",
       "    }\n",
       "</style>\n",
       "<table border=\"1\" class=\"dataframe\">\n",
       "  <thead>\n",
       "    <tr style=\"text-align: right;\">\n",
       "      <th></th>\n",
       "      <th>name</th>\n",
       "      <th>followers</th>\n",
       "      <th>following</th>\n",
       "      <th>NumTracks</th>\n",
       "    </tr>\n",
       "    <tr>\n",
       "      <th>author_id</th>\n",
       "      <th></th>\n",
       "      <th></th>\n",
       "      <th></th>\n",
       "      <th></th>\n",
       "    </tr>\n",
       "  </thead>\n",
       "  <tbody>\n",
       "    <tr>\n",
       "      <th>774</th>\n",
       "      <td>Big Sean Verified</td>\n",
       "      <td>9510000</td>\n",
       "      <td>3</td>\n",
       "      <td>229</td>\n",
       "    </tr>\n",
       "    <tr>\n",
       "      <th>299</th>\n",
       "      <td>Def Jam Recordings Verified</td>\n",
       "      <td>8490000</td>\n",
       "      <td>58</td>\n",
       "      <td>76</td>\n",
       "    </tr>\n",
       "    <tr>\n",
       "      <th>2095</th>\n",
       "      <td>YMCMB-Official Verified</td>\n",
       "      <td>8460000</td>\n",
       "      <td>4</td>\n",
       "      <td>66</td>\n",
       "    </tr>\n",
       "    <tr>\n",
       "      <th>1249</th>\n",
       "      <td>WALE Verified</td>\n",
       "      <td>8320000</td>\n",
       "      <td>5</td>\n",
       "      <td>355</td>\n",
       "    </tr>\n",
       "    <tr>\n",
       "      <th>301</th>\n",
       "      <td>Pusha T Verified</td>\n",
       "      <td>8180000</td>\n",
       "      <td>1</td>\n",
       "      <td>162</td>\n",
       "    </tr>\n",
       "  </tbody>\n",
       "</table>\n",
       "</div>"
      ],
      "text/plain": [
       "                                  name  followers  following  NumTracks\n",
       "author_id                                                              \n",
       "774                  Big Sean Verified    9510000          3        229\n",
       "299        Def Jam Recordings Verified    8490000         58         76\n",
       "2095           YMCMB-Official Verified    8460000          4         66\n",
       "1249                     WALE Verified    8320000          5        355\n",
       "301                   Pusha T Verified    8180000          1        162"
      ]
     },
     "execution_count": 50,
     "metadata": {},
     "output_type": "execute_result"
    }
   ],
   "source": [
    "users_df.nlargest(n = 5, columns=['followers'])"
   ]
  },
  {
   "cell_type": "markdown",
   "id": "99c6951d",
   "metadata": {},
   "source": [
    "We can see that the author have the most played is not the author that have the most followers."
   ]
  },
  {
   "attachments": {},
   "cell_type": "markdown",
   "id": "8d1081d1",
   "metadata": {},
   "source": [
    "### Expedition 3:\n",
    "\n",
    "We have seen there are many platforms to upload music nowadays such as Spotify, Youtube, Apple Music, etc. In the last few years SoundCloud always make it proof to be the best platform for musicians, is it still the king now?\n",
    "\n",
    "By answering this question, we will know whether SoundCloud is still the popular platform for the musicians or not."
   ]
  },
  {
   "attachments": {},
   "cell_type": "markdown",
   "id": "3af66563",
   "metadata": {},
   "source": [
    "\n",
    "Firstly, we will plot the number of playlist created by years to see how many playlists created each year."
   ]
  },
  {
   "cell_type": "code",
   "execution_count": 51,
   "id": "b8f7a241",
   "metadata": {
    "scrolled": false
   },
   "outputs": [
    {
     "data": {
      "text/plain": [
       "array([[<AxesSubplot: title={'center': 'year_release'}>],\n",
       "       [<AxesSubplot: >],\n",
       "       [<AxesSubplot: >]], dtype=object)"
      ]
     },
     "execution_count": 51,
     "metadata": {},
     "output_type": "execute_result"
    },
    {
     "data": {
      "image/png": "[encoded data removed]",
      "text/plain": [
       "<Figure size 500x1000 with 3 Axes>"
      ]
     },
     "metadata": {},
     "output_type": "display_data"
    }
   ],
   "source": [
    "%matplotlib inline\n",
    "playlists_df.hist(column='year_release', grid=False, figsize=(5,10),bins=11, layout=(3,1), sharex=True, color='#86bf91', zorder=2, rwidth=0.9)"
   ]
  },
  {
   "cell_type": "markdown",
   "id": "01415f4b",
   "metadata": {},
   "source": [
    "In the \"year_release\" graph for playlists and tracks, release rates have peaked in between 2016-2018 and 2022.\n",
    "This is really important in 2016, a lot of young artists gained popularity in that time, eg. Lorde, Avicii, Alan Walker (these people might not be in the data, but it is from my personal experience and opinion)"
   ]
  },
  {
   "cell_type": "markdown",
   "id": "193f9672",
   "metadata": {},
   "source": [
    "Then, we plot the release year of all tracks from 2007 to now, because the data from the year that lower than 2007 is too small to plot."
   ]
  },
  {
   "cell_type": "code",
   "execution_count": 52,
   "id": "0a2cd92b",
   "metadata": {},
   "outputs": [
    {
     "data": {
      "text/plain": [
       "array([[<AxesSubplot: title={'center': 'year_release'}>, <AxesSubplot: >],\n",
       "       [<AxesSubplot: >, <AxesSubplot: >],\n",
       "       [<AxesSubplot: >, <AxesSubplot: >]], dtype=object)"
      ]
     },
     "execution_count": 52,
     "metadata": {},
     "output_type": "execute_result"
    },
    {
     "data": {
      "image/png": "[encoded data removed]",
      "text/plain": [
       "<Figure size 1600x1000 with 6 Axes>"
      ]
     },
     "metadata": {},
     "output_type": "display_data"
    }
   ],
   "source": [
    "%matplotlib inline\n",
    "tracks_df.hist(column='year_release', range=[2007, 2022], bins=15, grid=False, figsize=(16,10), layout=(3,2), sharex=True, color='#86bf91', rwidth=0.9)"
   ]
  },
  {
   "cell_type": "markdown",
   "id": "8b5c6826",
   "metadata": {},
   "source": [
    "In the graph for tracks, as the years went, the release rate seems to decrease overtime until in 2022 when many Gen-Z artists underwent a surge in popularity, mainly after the pandemic has alleviated in terms of intensity\n",
    "As for playlists graph, it shared a similar reduction after 2018 but slowly recovered after that."
   ]
  },
  {
   "cell_type": "markdown",
   "id": "c10779ca",
   "metadata": {},
   "source": [
    "In overall, from 2 graphs, we can conclude that Soundcloud is still popular with musicians and listeners despite a little bit drop from 2018 to 2021."
   ]
  },
  {
   "attachments": {},
   "cell_type": "markdown",
   "id": "e0a6aacc",
   "metadata": {},
   "source": [
    "### Expedition 4:\n",
    "\n",
    "We do see the like also effect the viral of the uploaded music, we will check the effect of likes on the music play or not?"
   ]
  },
  {
   "attachments": {},
   "cell_type": "markdown",
   "id": "dd40dec2",
   "metadata": {},
   "source": [
    "We perform a linear regression model and a interative graph between number of likes and played."
   ]
  },
  {
   "cell_type": "code",
   "execution_count": null,
   "id": "4171c9f9",
   "metadata": {},
   "outputs": [],
   "source": [
    "X_train, X_test, y_train, y_test = train_test_split(tracks_df_sum['total_plays'].values.reshape(-1, 1), tracks_df_sum['likes'].values, test_size=0.2, random_state=10) "
   ]
  },
  {
   "cell_type": "code",
   "execution_count": 55,
   "id": "2e41df0a",
   "metadata": {
    "scrolled": false
   },
   "outputs": [
    {
     "data": {
      "image/png": "[encoded data removed]",
      "text/plain": [
       "<Figure size 640x480 with 1 Axes>"
      ]
     },
     "metadata": {},
     "output_type": "display_data"
    }
   ],
   "source": [
    "%matplotlib inline\n",
    "regressor = LinearRegression() \n",
    "regressor.fit(X_train, y_train) \n",
    "\n",
    "y_pred = regressor.predict(X_test)\n",
    "plt.xlim([0, 260000000])\n",
    "plt.ylim([0, 2600000])\n",
    "plt.xlabel('total plays')\n",
    "plt.ylabel('likes')\n",
    "plt.scatter(X_train, y_train,color='g') \n",
    "plt.plot(X_test, y_pred,color='k') \n",
    "\n",
    "plt.show()"
   ]
  },
  {
   "cell_type": "markdown",
   "id": "a3feb9a7",
   "metadata": {},
   "source": [
    "As the graph above, the number of likes and total plays has a linear combination. The more played on a track, the more likes that track will be received."
   ]
  },
  {
   "attachments": {},
   "cell_type": "markdown",
   "id": "25e5c509",
   "metadata": {},
   "source": [
    "### Expedition 5:\n",
    "\n",
    "Do the songs with 10 million plays come from users with the number of followers above the mean value, which is about 178 thousand followers?"
   ]
  },
  {
   "attachments": {},
   "cell_type": "markdown",
   "id": "1505faf9",
   "metadata": {},
   "source": [
    "We get the number of tracks with more than 10 million plays and in that tracks, filter the tracks with above 178 thousand followers."
   ]
  },
  {
   "cell_type": "code",
   "execution_count": 56,
   "id": "86d767e6",
   "metadata": {
    "scrolled": true
   },
   "outputs": [
    {
     "name": "stdout",
     "output_type": "stream",
     "text": [
      "Number of tracks with more than 10 million plays:  29\n",
      "Number of tracks with more than 10 million plays and author have above 178 thousand followers:  29\n"
     ]
    }
   ],
   "source": [
    "new_data_sorted = new_data[new_data['total_plays'] >= 10000000]\n",
    "new_data_sorted_followers = new_data_sorted[new_data_sorted['followers'] >= 178000]\n",
    "print(\"Number of tracks with more than 10 million plays: \", len(new_data_sorted))\n",
    "print(\"Number of tracks with more than 10 million plays and author have above 178 thousand followers: \", len(new_data_sorted_followers))"
   ]
  },
  {
   "cell_type": "markdown",
   "id": "0124c17b",
   "metadata": {},
   "source": [
    "We can see that all the tracks that have more than 10 million plays come from the user with more than 178 thousand followers "
   ]
  },
  {
   "attachments": {},
   "cell_type": "markdown",
   "id": "a0764aae",
   "metadata": {},
   "source": [
    "### Expedition 6:\n",
    "\n",
    "So what kind of vibe music titles that the users on SoundCloud usually listen to? Positive vibe or Negative vibe?"
   ]
  },
  {
   "attachments": {},
   "cell_type": "markdown",
   "id": "9c926a74",
   "metadata": {},
   "source": [
    "To know that which title is positive or negative, we need a machine learning model to classify the title.\n",
    "\n",
    "Here we use the distilBERT for English text from hugging face."
   ]
  },
  {
   "cell_type": "markdown",
   "id": "397f70a4",
   "metadata": {},
   "source": [
    "Run the model for all data"
   ]
  },
  {
   "cell_type": "code",
   "execution_count": 58,
   "id": "590f88c8",
   "metadata": {},
   "outputs": [
    {
     "name": "stderr",
     "output_type": "stream",
     "text": [
      "2022-12-05 21:06:49.684468: I tensorflow/core/platform/cpu_feature_guard.cc:193] This TensorFlow binary is optimized with oneAPI Deep Neural Network Library (oneDNN) to use the following CPU instructions in performance-critical operations:  AVX2 AVX_VNNI FMA\n",
      "To enable them in other operations, rebuild TensorFlow with the appropriate compiler flags.\n",
      "2022-12-05 21:06:49.787947: I tensorflow/core/util/util.cc:169] oneDNN custom operations are on. You may see slightly different numerical results due to floating-point round-off errors from different computation orders. To turn them off, set the environment variable `TF_ENABLE_ONEDNN_OPTS=0`.\n",
      "2022-12-05 21:06:49.809748: E tensorflow/stream_executor/cuda/cuda_blas.cc:2981] Unable to register cuBLAS factory: Attempting to register factory for plugin cuBLAS when one has already been registered\n",
      "2022-12-05 21:06:50.246638: W tensorflow/stream_executor/platform/default/dso_loader.cc:64] Could not load dynamic library 'libnvinfer.so.7'; dlerror: libnvinfer.so.7: cannot open shared object file: No such file or directory; LD_LIBRARY_PATH: :/home/van23/anaconda3/envs/tf/lib/:/home/van23/anaconda3/envs/min_ds-env/lib/\n",
      "2022-12-05 21:06:50.246739: W tensorflow/stream_executor/platform/default/dso_loader.cc:64] Could not load dynamic library 'libnvinfer_plugin.so.7'; dlerror: libnvinfer_plugin.so.7: cannot open shared object file: No such file or directory; LD_LIBRARY_PATH: :/home/van23/anaconda3/envs/tf/lib/:/home/van23/anaconda3/envs/min_ds-env/lib/\n",
      "2022-12-05 21:06:50.246744: W tensorflow/compiler/tf2tensorrt/utils/py_utils.cc:38] TF-TRT Warning: Cannot dlopen some TensorRT libraries. If you would like to use Nvidia GPU with TensorRT, please make sure the missing libraries mentioned above are installed properly.\n",
      "2022-12-05 21:06:51.820761: I tensorflow/stream_executor/cuda/cuda_gpu_executor.cc:966] could not open file to read NUMA node: /sys/bus/pci/devices/0000:01:00.0/numa_node\n",
      "Your kernel may have been built without NUMA support.\n",
      "2022-12-05 21:06:51.828509: I tensorflow/stream_executor/cuda/cuda_gpu_executor.cc:966] could not open file to read NUMA node: /sys/bus/pci/devices/0000:01:00.0/numa_node\n",
      "Your kernel may have been built without NUMA support.\n",
      "2022-12-05 21:06:51.828816: I tensorflow/stream_executor/cuda/cuda_gpu_executor.cc:966] could not open file to read NUMA node: /sys/bus/pci/devices/0000:01:00.0/numa_node\n",
      "Your kernel may have been built without NUMA support.\n",
      "2022-12-05 21:06:51.829202: I tensorflow/core/platform/cpu_feature_guard.cc:193] This TensorFlow binary is optimized with oneAPI Deep Neural Network Library (oneDNN) to use the following CPU instructions in performance-critical operations:  AVX2 AVX_VNNI FMA\n",
      "To enable them in other operations, rebuild TensorFlow with the appropriate compiler flags.\n",
      "2022-12-05 21:06:51.830302: I tensorflow/stream_executor/cuda/cuda_gpu_executor.cc:966] could not open file to read NUMA node: /sys/bus/pci/devices/0000:01:00.0/numa_node\n",
      "Your kernel may have been built without NUMA support.\n",
      "2022-12-05 21:06:51.830569: I tensorflow/stream_executor/cuda/cuda_gpu_executor.cc:966] could not open file to read NUMA node: /sys/bus/pci/devices/0000:01:00.0/numa_node\n",
      "Your kernel may have been built without NUMA support.\n",
      "2022-12-05 21:06:51.830852: I tensorflow/stream_executor/cuda/cuda_gpu_executor.cc:966] could not open file to read NUMA node: /sys/bus/pci/devices/0000:01:00.0/numa_node\n",
      "Your kernel may have been built without NUMA support.\n",
      "2022-12-05 21:06:52.688462: I tensorflow/stream_executor/cuda/cuda_gpu_executor.cc:966] could not open file to read NUMA node: /sys/bus/pci/devices/0000:01:00.0/numa_node\n",
      "Your kernel may have been built without NUMA support.\n",
      "2022-12-05 21:06:52.688768: I tensorflow/stream_executor/cuda/cuda_gpu_executor.cc:966] could not open file to read NUMA node: /sys/bus/pci/devices/0000:01:00.0/numa_node\n",
      "Your kernel may have been built without NUMA support.\n",
      "2022-12-05 21:06:52.688780: I tensorflow/core/common_runtime/gpu/gpu_device.cc:1700] Could not identify NUMA node of platform GPU id 0, defaulting to 0.  Your kernel may not have been built with NUMA support.\n",
      "2022-12-05 21:06:52.688991: I tensorflow/stream_executor/cuda/cuda_gpu_executor.cc:966] could not open file to read NUMA node: /sys/bus/pci/devices/0000:01:00.0/numa_node\n",
      "Your kernel may have been built without NUMA support.\n",
      "2022-12-05 21:06:52.689040: I tensorflow/core/common_runtime/gpu/gpu_device.cc:1616] Created device /job:localhost/replica:0/task:0/device:GPU:0 with 9542 MB memory:  -> device: 0, name: NVIDIA GeForce RTX 3060, pci bus id: 0000:01:00.0, compute capability: 8.6\n",
      "2022-12-05 21:06:54.423085: I tensorflow/stream_executor/cuda/cuda_blas.cc:1614] TensorFloat-32 will be used for the matrix multiplication. This will only be logged once.\n"
     ]
    }
   ],
   "source": [
    "classifier = pipeline(\"text-classification\", model = \"distilbert-base-uncased-finetuned-sst-2-english\")\n",
    "new_data['title_sentiment'] = new_data.apply(lambda row: classifier(row['track_title'])[0]['label'], axis = 1);"
   ]
  },
  {
   "cell_type": "markdown",
   "id": "c5ad451e",
   "metadata": {},
   "source": [
    "Calculate the percentage of each type (positive and negative)"
   ]
  },
  {
   "cell_type": "code",
   "execution_count": 59,
   "id": "90ea0ba8",
   "metadata": {
    "scrolled": true
   },
   "outputs": [],
   "source": [
    "new_data['title_sentiment']\n",
    "aggregation_functions = {'total_plays': 'sum', 'track_like': 'sum', 'track_repost': 'sum'}\n",
    "new_data_sentiment = new_data.groupby(new_data['title_sentiment']).aggregate(aggregation_functions)\n",
    "\n",
    "new_data_sentiment['play_percent'] = (new_data_sentiment['total_plays'] / new_data_sentiment['total_plays'].sum()) * 100\n",
    "new_data_sentiment['like_percent'] = (new_data_sentiment['track_like'] / new_data_sentiment['track_like'].sum()) * 100\n",
    "new_data_sentiment['repost_percent'] = (new_data_sentiment['track_repost'] / new_data_sentiment['track_repost'].sum()) * 100"
   ]
  },
  {
   "attachments": {},
   "cell_type": "markdown",
   "id": "e531ae85",
   "metadata": {},
   "source": [
    "# Visualization"
   ]
  },
  {
   "cell_type": "code",
   "execution_count": 60,
   "id": "5a96e7dd",
   "metadata": {
    "scrolled": true
   },
   "outputs": [
    {
     "data": {
      "image/png": "[encoded data removed]",
      "text/plain": [
       "<Figure size 500x300 with 1 Axes>"
      ]
     },
     "metadata": {},
     "output_type": "display_data"
    }
   ],
   "source": [
    "%matplotlib inline\n",
    "fig = plt.subplots(figsize =(5, 3))\n",
    "\n",
    "barWidth =0.25\n",
    "br1 = np.arange(len(new_data_sentiment.index))\n",
    "br2 = [x + barWidth for x in br1]\n",
    "br3 = [x + barWidth for x in br2]\n",
    "\n",
    "plt.bar(br1, new_data_sentiment['play_percent'], width = barWidth, color ='r', label='Total Plays')\n",
    "plt.bar(br2, new_data_sentiment['like_percent'], width = barWidth, color ='g', label='Total Likes')\n",
    "plt.bar(br3, new_data_sentiment['repost_percent'], width = barWidth, color ='b', label='Total Reposts')\n",
    "\n",
    "plt.xlabel('Value', fontweight ='bold', fontsize = 15)\n",
    "plt.ylabel('Percent', fontweight ='bold', fontsize = 15)\n",
    "plt.xticks([r + barWidth for r in range(len(new_data_sentiment.index))],\n",
    "        list(new_data_sentiment.index))\n",
    "\n",
    "\n",
    "plt.legend()\n",
    "plt.show()"
   ]
  },
  {
   "cell_type": "markdown",
   "id": "b2f5de58",
   "metadata": {},
   "source": [
    "It is clear that all criterias in the \"negative\" are all lower than those of \"positive\".\n",
    "\n",
    "The gap in \"total likes\" and \"total plays\" between \"negative\" and \"positive\" is small and similar whilst the \"reposts\" is a significant one. The \"reposts\" rate in the right side outnumbered the left side.\n",
    "\n",
    "This could be due to the habit of SoundCloud users where they usually share/repost tracks from small and minor artists they've been following, not the big ones. Small artists tend to publish their tracks without thinking who would listen to them."
   ]
  }
 ],
 "metadata": {
  "kernelspec": {
   "display_name": "Python 3 (ipykernel)",
   "language": "python",
   "name": "python3"
  },
  "language_info": {
   "codemirror_mode": {
    "name": "ipython",
    "version": 3
   },
   "file_extension": ".py",
   "mimetype": "text/x-python",
   "name": "python",
   "nbconvert_exporter": "python",
   "pygments_lexer": "ipython3",
   "version": "3.8.8"
  }
 },
 "nbformat": 4,
 "nbformat_minor": 5
}
